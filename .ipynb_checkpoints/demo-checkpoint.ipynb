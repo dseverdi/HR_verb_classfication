{
 "cells": [
  {
   "cell_type": "code",
   "execution_count": 7,
   "id": "367aa1af-a0a2-4ac3-972f-f60fcff5889a",
   "metadata": {},
   "outputs": [],
   "source": [
    "import warnings\n",
    "warnings.filterwarnings('ignore')"
   ]
  },
  {
   "cell_type": "markdown",
   "id": "e5ac6680-0a91-4709-901b-fc20bdd5adf0",
   "metadata": {},
   "source": [
    "# Croatian Verb classsification"
   ]
  },
  {
   "cell_type": "markdown",
   "id": "3f413458-dbe3-4f0c-adb6-a005b7f75790",
   "metadata": {},
   "source": [
    "authors: Rebeka Čorić, Domagoj Ševerdija, Lucian Šošić"
   ]
  },
  {
   "cell_type": "markdown",
   "id": "ecbb4255-4487-4f98-9900-461a3e14b835",
   "metadata": {},
   "source": [
    "## Problem definition\n",
    "\n",
    "In this paper we present croatian verb classification from infinitive form to present form and vice-versa. In both cases convolutional Neural Network is employed to learn classifer."
   ]
  },
  {
   "cell_type": "markdown",
   "id": "6ee2c77d-2b1c-408d-b7d4-38b5df5b1dd1",
   "metadata": {},
   "source": [
    "## Problem 1: Infinitive stem classification"
   ]
  },
  {
   "cell_type": "code",
   "execution_count": 8,
   "id": "da7afc29-5cdd-4282-9bbe-40dbe9e1427b",
   "metadata": {},
   "outputs": [],
   "source": [
    "from inf2pres.evaluate import evaluateOnTestSet, loadModel, heatmap, predict\n",
    "from inf2pres.utils         import ucitajPodatke, klase_prezent"
   ]
  },
  {
   "cell_type": "markdown",
   "id": "39a956e5-d021-40fa-92d3-c07cd7ea510e",
   "metadata": {},
   "source": [
    "### Dataset\n",
    "\n",
    "Dataset consists of pairs $(w_{inf},C_{pres})$ where $w_{inf}$ denotes infinitive form of verb $w$ and $C_{pres}\\in \\{-am,-im,-ijem,-jem,-em\\}$ as a class denoted with respect to 1st person present suffix.\n"
   ]
  },
  {
   "cell_type": "code",
   "execution_count": 9,
   "id": "1be2cead-45f9-45c9-afb3-dd8517b7104b",
   "metadata": {},
   "outputs": [],
   "source": [
    "train_set, val_set, test_set, sve_kategorije = ucitajPodatke('inf2pres/data/')"
   ]
  },
  {
   "cell_type": "code",
   "execution_count": 10,
   "id": "fcfd066c-f2a9-4dbe-a5ba-4c0c79afa449",
   "metadata": {
    "tags": []
   },
   "outputs": [
    {
     "name": "stdout",
     "output_type": "stream",
     "text": [
      "\\begin{tabular}{lrrrr}\n",
      "\\toprule\n",
      "{} &  train &  val &  test &  total \\\\\n",
      "classes &        &      &       &        \\\\\n",
      "\\midrule\n",
      "am      &   1968 &  219 &   243 &   2430 \\\\\n",
      "im      &   1900 &  212 &   235 &   2347 \\\\\n",
      "ijem    &    975 &  109 &   121 &   1205 \\\\\n",
      "jem     &    537 &   60 &    67 &    664 \\\\\n",
      "em      &     81 &    9 &    10 &    100 \\\\\n",
      "total   &   5461 &  609 &   676 &   6746 \\\\\n",
      "\\bottomrule\n",
      "\\end{tabular}\n",
      "\n"
     ]
    },
    {
     "data": {
      "text/html": [
       "<div>\n",
       "<style scoped>\n",
       "    .dataframe tbody tr th:only-of-type {\n",
       "        vertical-align: middle;\n",
       "    }\n",
       "\n",
       "    .dataframe tbody tr th {\n",
       "        vertical-align: top;\n",
       "    }\n",
       "\n",
       "    .dataframe thead th {\n",
       "        text-align: right;\n",
       "    }\n",
       "</style>\n",
       "<table border=\"1\" class=\"dataframe\">\n",
       "  <thead>\n",
       "    <tr style=\"text-align: right;\">\n",
       "      <th></th>\n",
       "      <th>train</th>\n",
       "      <th>val</th>\n",
       "      <th>test</th>\n",
       "      <th>total</th>\n",
       "    </tr>\n",
       "    <tr>\n",
       "      <th>classes</th>\n",
       "      <th></th>\n",
       "      <th></th>\n",
       "      <th></th>\n",
       "      <th></th>\n",
       "    </tr>\n",
       "  </thead>\n",
       "  <tbody>\n",
       "    <tr>\n",
       "      <th>am</th>\n",
       "      <td>1968</td>\n",
       "      <td>219</td>\n",
       "      <td>243</td>\n",
       "      <td>2430</td>\n",
       "    </tr>\n",
       "    <tr>\n",
       "      <th>im</th>\n",
       "      <td>1900</td>\n",
       "      <td>212</td>\n",
       "      <td>235</td>\n",
       "      <td>2347</td>\n",
       "    </tr>\n",
       "    <tr>\n",
       "      <th>ijem</th>\n",
       "      <td>975</td>\n",
       "      <td>109</td>\n",
       "      <td>121</td>\n",
       "      <td>1205</td>\n",
       "    </tr>\n",
       "    <tr>\n",
       "      <th>jem</th>\n",
       "      <td>537</td>\n",
       "      <td>60</td>\n",
       "      <td>67</td>\n",
       "      <td>664</td>\n",
       "    </tr>\n",
       "    <tr>\n",
       "      <th>em</th>\n",
       "      <td>81</td>\n",
       "      <td>9</td>\n",
       "      <td>10</td>\n",
       "      <td>100</td>\n",
       "    </tr>\n",
       "    <tr>\n",
       "      <th>total</th>\n",
       "      <td>5461</td>\n",
       "      <td>609</td>\n",
       "      <td>676</td>\n",
       "      <td>6746</td>\n",
       "    </tr>\n",
       "  </tbody>\n",
       "</table>\n",
       "</div>"
      ],
      "text/plain": [
       "         train  val  test  total\n",
       "classes                         \n",
       "am        1968  219   243   2430\n",
       "im        1900  212   235   2347\n",
       "ijem       975  109   121   1205\n",
       "jem        537   60    67    664\n",
       "em          81    9    10    100\n",
       "total     5461  609   676   6746"
      ]
     },
     "execution_count": 10,
     "metadata": {},
     "output_type": "execute_result"
    }
   ],
   "source": [
    "import pandas as pd\n",
    "train_df = pd.DataFrame(train_set,columns=['word','class'])\n",
    "val_df   = pd.DataFrame(val_set,columns=['word','class'])\n",
    "test_df  = pd.DataFrame(test_set,columns=['word','class'])\n",
    "\n",
    "\n",
    "stats = pd.DataFrame(data = \n",
    "                     {'classes' : klase_prezent.values(), \n",
    "                      'train' : train_df['class'].value_counts(), \n",
    "                      'val' : val_df['class'].value_counts(),\n",
    "                      'test' : test_df['class'].value_counts()},                                          \n",
    "                      \n",
    "        ).set_index('classes')\n",
    "\n",
    "        \n",
    "stats.loc['total']= stats.sum(numeric_only=True, axis=0)\n",
    "stats.loc[:,'total']= stats.sum(numeric_only=True, axis=1)\n",
    "\n",
    "\n",
    "print(stats.to_latex(index=True))\n",
    "\n",
    "stats\n"
   ]
  },
  {
   "cell_type": "markdown",
   "id": "552e7310-9e09-4e8f-9444-e6210e558444",
   "metadata": {},
   "source": [
    "### Model evaluation\n",
    "\n",
    "Our model is evaluated in terms of accuracy, micro-  and macro-averages of F1 socres together with weigthed $F_1$ score. We report a confusion matrix. "
   ]
  },
  {
   "cell_type": "code",
   "execution_count": 11,
   "id": "d1246392-a3b0-4793-8e4c-2d875e3dd49d",
   "metadata": {
    "tags": []
   },
   "outputs": [
    {
     "name": "stdout",
     "output_type": "stream",
     "text": [
      " --------------Evaluation metrics: ----------------------           \n",
      " * test loss: 1.423\n",
      " * test accuracy: 0.947,\n",
      " * test rmse: 0.683,\n",
      " * test microF1: 0.879,\n",
      " * test macroF1: 0.947,\n",
      " * test weightedF1: 0.946\n"
     ]
    },
    {
     "data": {
      "image/png": "[encoded data removed]",
      "text/plain": [
       "<Figure size 720x504 with 2 Axes>"
      ]
     },
     "metadata": {},
     "output_type": "display_data"
    }
   ],
   "source": [
    "# evaluacija prethodno spremljenog modela\n",
    "model_weights_path = 'inf2pres/results/hyperparameters/hp2/model.weights'\n",
    "model = loadModel(model_weights_path)\n",
    "evaluateOnTestSet(model, test_set,sve_kategorije)"
   ]
  },
  {
   "cell_type": "markdown",
   "id": "342e4dde-4fd9-4485-8b64-e439484bf4d8",
   "metadata": {},
   "source": [
    "### Model testing\n",
    "\n",
    "Some interesting examples with an interpretation."
   ]
  },
  {
   "cell_type": "code",
   "execution_count": 19,
   "id": "7b1bf83d-9f9b-4ee0-9bf4-34aa9370d81d",
   "metadata": {
    "jupyter": {
     "source_hidden": true
    },
    "tags": []
   },
   "outputs": [
    {
     "name": "stdout",
     "output_type": "stream",
     "text": [
      "Overwriting inf2pres.input\n"
     ]
    }
   ],
   "source": [
    "%%writefile inf2pres.input\n",
    "iscrtati\n",
    "raskrinkati\n",
    "slušati\n",
    "primjeriti\n",
    "bubriti\n",
    "iskoračiti\n",
    "klijati\n",
    "skijati\n",
    "postojati\n",
    "ustrajati\n",
    "stajati\n",
    "prijati\n",
    "pridavati\n",
    "mučati\n",
    "zibati\n",
    "škrabati\n",
    "muvati\n",
    "dokazati\n",
    "zezati\n",
    "pogledavati\n",
    "razgranavati\n",
    "poravnavati\n",
    "dozidavati\n",
    "podrivati\n",
    "ispitivati\n",
    "poštivati\n",
    "isplaćivati\n",
    "označivati\n",
    "zapinjati\n",
    "proklinjati\n",
    "prokleti\n",
    "izasuti\n",
    "otpasti\n",
    "ozepsti\n",
    "skupsti\n",
    "pomusti\n",
    "potaći\n",
    "zapovrći\n",
    "vrći\n",
    "zaleći\n",
    "zaspati\n",
    "proliti\n",
    "vapiti\n",
    "sazreti\n",
    "prozreti\n",
    "mljeti\n",
    "zadjeti\n",
    "rudjeti\n",
    "osoviti\n",
    "mokriti\n",
    "oviti\n",
    "raspoloviti\n",
    "požeti\n",
    "uzavreti\n",
    "odaslati\n",
    "prohtjeti\n",
    "nadići\n",
    "isklesati\n",
    "zabosti\n",
    "zderati\n",
    "poodmaći\n",
    "dopirati\n",
    "okretati\n",
    "susresti\n",
    "obrecnuti\n",
    "umirati"
   ]
  },
  {
   "cell_type": "code",
   "execution_count": 12,
   "id": "0a9a42ab-e48a-4dfa-863e-5cdf7abde979",
   "metadata": {
    "tags": []
   },
   "outputs": [
    {
     "name": "stdout",
     "output_type": "stream",
     "text": [
      "INF2PRES class: am\n"
     ]
    },
    {
     "data": {
      "image/png": "[encoded data removed]",
      "text/plain": [
       "<Figure size 432x288 with 1 Axes>"
      ]
     },
     "metadata": {},
     "output_type": "display_data"
    },
    {
     "name": "stdout",
     "output_type": "stream",
     "text": [
      "INF2PRES class: am\n"
     ]
    },
    {
     "data": {
      "image/png": "[encoded data removed]",
      "text/plain": [
       "<Figure size 432x288 with 1 Axes>"
      ]
     },
     "metadata": {},
     "output_type": "display_data"
    },
    {
     "name": "stdout",
     "output_type": "stream",
     "text": [
      "INF2PRES class: am\n"
     ]
    },
    {
     "data": {
      "image/png": "[encoded data removed]",
      "text/plain": [
       "<Figure size 432x288 with 1 Axes>"
      ]
     },
     "metadata": {},
     "output_type": "display_data"
    },
    {
     "name": "stdout",
     "output_type": "stream",
     "text": [
      "INF2PRES class: im\n"
     ]
    },
    {
     "data": {
      "image/png": "[encoded data removed]",
      "text/plain": [
       "<Figure size 432x288 with 1 Axes>"
      ]
     },
     "metadata": {},
     "output_type": "display_data"
    },
    {
     "name": "stdout",
     "output_type": "stream",
     "text": [
      "INF2PRES class: im\n"
     ]
    },
    {
     "data": {
      "image/png": "[encoded data removed]",
      "text/plain": [
       "<Figure size 432x288 with 1 Axes>"
      ]
     },
     "metadata": {},
     "output_type": "display_data"
    },
    {
     "name": "stdout",
     "output_type": "stream",
     "text": [
      "INF2PRES class: im\n"
     ]
    },
    {
     "data": {
      "image/png": "[encoded data removed]",
      "text/plain": [
       "<Figure size 432x288 with 1 Axes>"
      ]
     },
     "metadata": {},
     "output_type": "display_data"
    },
    {
     "name": "stdout",
     "output_type": "stream",
     "text": [
      "INF2PRES class: am\n"
     ]
    },
    {
     "data": {
      "image/png": "[encoded data removed]",
      "text/plain": [
       "<Figure size 432x288 with 1 Axes>"
      ]
     },
     "metadata": {},
     "output_type": "display_data"
    },
    {
     "name": "stdout",
     "output_type": "stream",
     "text": [
      "INF2PRES class: am\n"
     ]
    },
    {
     "data": {
      "image/png": "[encoded data removed]",
      "text/plain": [
       "<Figure size 432x288 with 1 Axes>"
      ]
     },
     "metadata": {},
     "output_type": "display_data"
    },
    {
     "name": "stdout",
     "output_type": "stream",
     "text": [
      "INF2PRES class: im\n"
     ]
    },
    {
     "data": {
      "image/png": "[encoded data removed]",
      "text/plain": [
       "<Figure size 432x288 with 1 Axes>"
      ]
     },
     "metadata": {},
     "output_type": "display_data"
    },
    {
     "name": "stdout",
     "output_type": "stream",
     "text": [
      "INF2PRES class: jem\n"
     ]
    },
    {
     "data": {
      "image/png": "[encoded data removed]",
      "text/plain": [
       "<Figure size 432x288 with 1 Axes>"
      ]
     },
     "metadata": {},
     "output_type": "display_data"
    },
    {
     "name": "stdout",
     "output_type": "stream",
     "text": [
      "INF2PRES class: jem\n"
     ]
    },
    {
     "data": {
      "image/png": "[encoded data removed]",
      "text/plain": [
       "<Figure size 432x288 with 1 Axes>"
      ]
     },
     "metadata": {},
     "output_type": "display_data"
    },
    {
     "name": "stdout",
     "output_type": "stream",
     "text": [
      "INF2PRES class: ijem\n"
     ]
    },
    {
     "data": {
      "image/png": "[encoded data removed]",
      "text/plain": [
       "<Figure size 432x288 with 1 Axes>"
      ]
     },
     "metadata": {},
     "output_type": "display_data"
    },
    {
     "name": "stdout",
     "output_type": "stream",
     "text": [
      "INF2PRES class: jem\n"
     ]
    },
    {
     "data": {
      "image/png": "[encoded data removed]",
      "text/plain": [
       "<Figure size 432x288 with 1 Axes>"
      ]
     },
     "metadata": {},
     "output_type": "display_data"
    },
    {
     "name": "stdout",
     "output_type": "stream",
     "text": [
      "INF2PRES class: im\n"
     ]
    },
    {
     "data": {
      "image/png": "[encoded data removed]",
      "text/plain": [
       "<Figure size 432x288 with 1 Axes>"
      ]
     },
     "metadata": {},
     "output_type": "display_data"
    },
    {
     "name": "stdout",
     "output_type": "stream",
     "text": [
      "INF2PRES class: am\n"
     ]
    },
    {
     "data": {
      "image/png": "[encoded data removed]",
      "text/plain": [
       "<Figure size 432x288 with 1 Axes>"
      ]
     },
     "metadata": {},
     "output_type": "display_data"
    },
    {
     "name": "stdout",
     "output_type": "stream",
     "text": [
      "INF2PRES class: am\n"
     ]
    },
    {
     "data": {
      "image/png": "[encoded data removed]",
      "text/plain": [
       "<Figure size 432x288 with 1 Axes>"
      ]
     },
     "metadata": {},
     "output_type": "display_data"
    },
    {
     "name": "stdout",
     "output_type": "stream",
     "text": [
      "INF2PRES class: am\n"
     ]
    },
    {
     "data": {
      "image/png": "[encoded data removed]",
      "text/plain": [
       "<Figure size 432x288 with 1 Axes>"
      ]
     },
     "metadata": {},
     "output_type": "display_data"
    },
    {
     "name": "stdout",
     "output_type": "stream",
     "text": [
      "INF2PRES class: em\n"
     ]
    },
    {
     "data": {
      "image/png": "[encoded data removed]",
      "text/plain": [
       "<Figure size 432x288 with 1 Axes>"
      ]
     },
     "metadata": {},
     "output_type": "display_data"
    },
    {
     "name": "stdout",
     "output_type": "stream",
     "text": [
      "INF2PRES class: am\n"
     ]
    },
    {
     "data": {
      "image/png": "[encoded data removed]",
      "text/plain": [
       "<Figure size 432x288 with 1 Axes>"
      ]
     },
     "metadata": {},
     "output_type": "display_data"
    },
    {
     "name": "stdout",
     "output_type": "stream",
     "text": [
      "INF2PRES class: am\n"
     ]
    },
    {
     "data": {
      "image/png": "[encoded data removed]",
      "text/plain": [
       "<Figure size 432x288 with 1 Axes>"
      ]
     },
     "metadata": {},
     "output_type": "display_data"
    },
    {
     "name": "stdout",
     "output_type": "stream",
     "text": [
      "INF2PRES class: am\n"
     ]
    },
    {
     "data": {
      "image/png": "[encoded data removed]",
      "text/plain": [
       "<Figure size 432x288 with 1 Axes>"
      ]
     },
     "metadata": {},
     "output_type": "display_data"
    },
    {
     "name": "stdout",
     "output_type": "stream",
     "text": [
      "INF2PRES class: am\n"
     ]
    },
    {
     "data": {
      "image/png": "[encoded data removed]",
      "text/plain": [
       "<Figure size 432x288 with 1 Axes>"
      ]
     },
     "metadata": {},
     "output_type": "display_data"
    },
    {
     "name": "stdout",
     "output_type": "stream",
     "text": [
      "INF2PRES class: am\n"
     ]
    },
    {
     "data": {
      "image/png": "[encoded data removed]",
      "text/plain": [
       "<Figure size 432x288 with 1 Axes>"
      ]
     },
     "metadata": {},
     "output_type": "display_data"
    },
    {
     "name": "stdout",
     "output_type": "stream",
     "text": [
      "INF2PRES class: am\n"
     ]
    },
    {
     "data": {
      "image/png": "[encoded data removed]",
      "text/plain": [
       "<Figure size 432x288 with 1 Axes>"
      ]
     },
     "metadata": {},
     "output_type": "display_data"
    },
    {
     "name": "stdout",
     "output_type": "stream",
     "text": [
      "INF2PRES class: jem\n"
     ]
    },
    {
     "data": {
      "image/png": "[encoded data removed]",
      "text/plain": [
       "<Figure size 432x288 with 1 Axes>"
      ]
     },
     "metadata": {},
     "output_type": "display_data"
    },
    {
     "name": "stdout",
     "output_type": "stream",
     "text": [
      "INF2PRES class: jem\n"
     ]
    },
    {
     "data": {
      "image/png": "[encoded data removed]",
      "text/plain": [
       "<Figure size 432x288 with 1 Axes>"
      ]
     },
     "metadata": {},
     "output_type": "display_data"
    },
    {
     "name": "stdout",
     "output_type": "stream",
     "text": [
      "INF2PRES class: jem\n"
     ]
    },
    {
     "data": {
      "image/png": "[encoded data removed]",
      "text/plain": [
       "<Figure size 432x288 with 1 Axes>"
      ]
     },
     "metadata": {},
     "output_type": "display_data"
    },
    {
     "name": "stdout",
     "output_type": "stream",
     "text": [
      "INF2PRES class: jem\n"
     ]
    },
    {
     "data": {
      "image/png": "[encoded data removed]",
      "text/plain": [
       "<Figure size 432x288 with 1 Axes>"
      ]
     },
     "metadata": {},
     "output_type": "display_data"
    },
    {
     "name": "stdout",
     "output_type": "stream",
     "text": [
      "INF2PRES class: jem\n"
     ]
    },
    {
     "data": {
      "image/png": "[encoded data removed]",
      "text/plain": [
       "<Figure size 432x288 with 1 Axes>"
      ]
     },
     "metadata": {},
     "output_type": "display_data"
    },
    {
     "name": "stdout",
     "output_type": "stream",
     "text": [
      "INF2PRES class: jem\n"
     ]
    },
    {
     "data": {
      "image/png": "[encoded data removed]",
      "text/plain": [
       "<Figure size 432x288 with 1 Axes>"
      ]
     },
     "metadata": {},
     "output_type": "display_data"
    },
    {
     "name": "stdout",
     "output_type": "stream",
     "text": [
      "INF2PRES class: em\n"
     ]
    },
    {
     "data": {
      "image/png": "[encoded data removed]",
      "text/plain": [
       "<Figure size 432x288 with 1 Axes>"
      ]
     },
     "metadata": {},
     "output_type": "display_data"
    },
    {
     "name": "stdout",
     "output_type": "stream",
     "text": [
      "INF2PRES class: em\n"
     ]
    },
    {
     "data": {
      "image/png": "[encoded data removed]",
      "text/plain": [
       "<Figure size 432x288 with 1 Axes>"
      ]
     },
     "metadata": {},
     "output_type": "display_data"
    },
    {
     "name": "stdout",
     "output_type": "stream",
     "text": [
      "INF2PRES class: em\n"
     ]
    },
    {
     "data": {
      "image/png": "[encoded data removed]",
      "text/plain": [
       "<Figure size 432x288 with 1 Axes>"
      ]
     },
     "metadata": {},
     "output_type": "display_data"
    },
    {
     "name": "stdout",
     "output_type": "stream",
     "text": [
      "INF2PRES class: em\n"
     ]
    },
    {
     "data": {
      "image/png": "[encoded data removed]",
      "text/plain": [
       "<Figure size 432x288 with 1 Axes>"
      ]
     },
     "metadata": {},
     "output_type": "display_data"
    },
    {
     "name": "stdout",
     "output_type": "stream",
     "text": [
      "INF2PRES class: em\n"
     ]
    },
    {
     "data": {
      "image/png": "[encoded data removed]",
      "text/plain": [
       "<Figure size 432x288 with 1 Axes>"
      ]
     },
     "metadata": {},
     "output_type": "display_data"
    },
    {
     "name": "stdout",
     "output_type": "stream",
     "text": [
      "INF2PRES class: em\n"
     ]
    },
    {
     "data": {
      "image/png": "[encoded data removed]",
      "text/plain": [
       "<Figure size 432x288 with 1 Axes>"
      ]
     },
     "metadata": {},
     "output_type": "display_data"
    },
    {
     "name": "stdout",
     "output_type": "stream",
     "text": [
      "INF2PRES class: em\n"
     ]
    },
    {
     "data": {
      "image/png": "[encoded data removed]",
      "text/plain": [
       "<Figure size 432x288 with 1 Axes>"
      ]
     },
     "metadata": {},
     "output_type": "display_data"
    },
    {
     "name": "stdout",
     "output_type": "stream",
     "text": [
      "INF2PRES class: em\n"
     ]
    },
    {
     "data": {
      "image/png": "[encoded data removed]",
      "text/plain": [
       "<Figure size 432x288 with 1 Axes>"
      ]
     },
     "metadata": {},
     "output_type": "display_data"
    },
    {
     "name": "stdout",
     "output_type": "stream",
     "text": [
      "INF2PRES class: em\n"
     ]
    },
    {
     "data": {
      "image/png": "[encoded data removed]",
      "text/plain": [
       "<Figure size 432x288 with 1 Axes>"
      ]
     },
     "metadata": {},
     "output_type": "display_data"
    },
    {
     "name": "stdout",
     "output_type": "stream",
     "text": [
      "INF2PRES class: em\n"
     ]
    },
    {
     "data": {
      "image/png": "[encoded data removed]",
      "text/plain": [
       "<Figure size 432x288 with 1 Axes>"
      ]
     },
     "metadata": {},
     "output_type": "display_data"
    },
    {
     "name": "stdout",
     "output_type": "stream",
     "text": [
      "INF2PRES class: im\n"
     ]
    },
    {
     "data": {
      "image/png": "[encoded data removed]",
      "text/plain": [
       "<Figure size 432x288 with 1 Axes>"
      ]
     },
     "metadata": {},
     "output_type": "display_data"
    },
    {
     "name": "stdout",
     "output_type": "stream",
     "text": [
      "INF2PRES class: ijem\n"
     ]
    },
    {
     "data": {
      "image/png": "[encoded data removed]",
      "text/plain": [
       "<Figure size 432x288 with 1 Axes>"
      ]
     },
     "metadata": {},
     "output_type": "display_data"
    },
    {
     "name": "stdout",
     "output_type": "stream",
     "text": [
      "INF2PRES class: im\n"
     ]
    },
    {
     "data": {
      "image/png": "[encoded data removed]",
      "text/plain": [
       "<Figure size 432x288 with 1 Axes>"
      ]
     },
     "metadata": {},
     "output_type": "display_data"
    },
    {
     "name": "stdout",
     "output_type": "stream",
     "text": [
      "INF2PRES class: em\n"
     ]
    },
    {
     "data": {
      "image/png": "[encoded data removed]",
      "text/plain": [
       "<Figure size 432x288 with 1 Axes>"
      ]
     },
     "metadata": {},
     "output_type": "display_data"
    },
    {
     "name": "stdout",
     "output_type": "stream",
     "text": [
      "INF2PRES class: em\n"
     ]
    },
    {
     "data": {
      "image/png": "[encoded data removed]",
      "text/plain": [
       "<Figure size 432x288 with 1 Axes>"
      ]
     },
     "metadata": {},
     "output_type": "display_data"
    },
    {
     "name": "stdout",
     "output_type": "stream",
     "text": [
      "INF2PRES class: jem\n"
     ]
    },
    {
     "data": {
      "image/png": "[encoded data removed]",
      "text/plain": [
       "<Figure size 432x288 with 1 Axes>"
      ]
     },
     "metadata": {},
     "output_type": "display_data"
    },
    {
     "name": "stdout",
     "output_type": "stream",
     "text": [
      "INF2PRES class: im\n"
     ]
    },
    {
     "data": {
      "image/png": "[encoded data removed]",
      "text/plain": [
       "<Figure size 432x288 with 1 Axes>"
      ]
     },
     "metadata": {},
     "output_type": "display_data"
    },
    {
     "name": "stdout",
     "output_type": "stream",
     "text": [
      "INF2PRES class: im\n"
     ]
    },
    {
     "data": {
      "image/png": "[encoded data removed]",
      "text/plain": [
       "<Figure size 432x288 with 1 Axes>"
      ]
     },
     "metadata": {},
     "output_type": "display_data"
    },
    {
     "name": "stdout",
     "output_type": "stream",
     "text": [
      "INF2PRES class: im\n"
     ]
    },
    {
     "data": {
      "image/png": "[encoded data removed]",
      "text/plain": [
       "<Figure size 432x288 with 1 Axes>"
      ]
     },
     "metadata": {},
     "output_type": "display_data"
    },
    {
     "name": "stdout",
     "output_type": "stream",
     "text": [
      "INF2PRES class: im\n"
     ]
    },
    {
     "data": {
      "image/png": "[encoded data removed]",
      "text/plain": [
       "<Figure size 432x288 with 1 Axes>"
      ]
     },
     "metadata": {},
     "output_type": "display_data"
    },
    {
     "name": "stdout",
     "output_type": "stream",
     "text": [
      "INF2PRES class: ijem\n"
     ]
    },
    {
     "data": {
      "image/png": "[encoded data removed]",
      "text/plain": [
       "<Figure size 432x288 with 1 Axes>"
      ]
     },
     "metadata": {},
     "output_type": "display_data"
    },
    {
     "name": "stdout",
     "output_type": "stream",
     "text": [
      "INF2PRES class: im\n"
     ]
    },
    {
     "data": {
      "image/png": "[encoded data removed]",
      "text/plain": [
       "<Figure size 432x288 with 1 Axes>"
      ]
     },
     "metadata": {},
     "output_type": "display_data"
    },
    {
     "name": "stdout",
     "output_type": "stream",
     "text": [
      "INF2PRES class: jem\n"
     ]
    },
    {
     "data": {
      "image/png": "[encoded data removed]",
      "text/plain": [
       "<Figure size 432x288 with 1 Axes>"
      ]
     },
     "metadata": {},
     "output_type": "display_data"
    },
    {
     "name": "stdout",
     "output_type": "stream",
     "text": [
      "INF2PRES class: im\n"
     ]
    },
    {
     "data": {
      "image/png": "[encoded data removed]",
      "text/plain": [
       "<Figure size 432x288 with 1 Axes>"
      ]
     },
     "metadata": {},
     "output_type": "display_data"
    },
    {
     "name": "stdout",
     "output_type": "stream",
     "text": [
      "INF2PRES class: jem\n"
     ]
    },
    {
     "data": {
      "image/png": "[encoded data removed]",
      "text/plain": [
       "<Figure size 432x288 with 1 Axes>"
      ]
     },
     "metadata": {},
     "output_type": "display_data"
    },
    {
     "name": "stdout",
     "output_type": "stream",
     "text": [
      "INF2PRES class: ijem\n"
     ]
    },
    {
     "data": {
      "image/png": "[encoded data removed]",
      "text/plain": [
       "<Figure size 432x288 with 1 Axes>"
      ]
     },
     "metadata": {},
     "output_type": "display_data"
    },
    {
     "name": "stdout",
     "output_type": "stream",
     "text": [
      "INF2PRES class: em\n"
     ]
    },
    {
     "data": {
      "image/png": "[encoded data removed]",
      "text/plain": [
       "<Figure size 432x288 with 1 Axes>"
      ]
     },
     "metadata": {},
     "output_type": "display_data"
    },
    {
     "name": "stdout",
     "output_type": "stream",
     "text": [
      "INF2PRES class: em\n"
     ]
    },
    {
     "data": {
      "image/png": "[encoded data removed]",
      "text/plain": [
       "<Figure size 432x288 with 1 Axes>"
      ]
     },
     "metadata": {},
     "output_type": "display_data"
    },
    {
     "name": "stdout",
     "output_type": "stream",
     "text": [
      "INF2PRES class: em\n"
     ]
    },
    {
     "data": {
      "image/png": "[encoded data removed]",
      "text/plain": [
       "<Figure size 432x288 with 1 Axes>"
      ]
     },
     "metadata": {},
     "output_type": "display_data"
    },
    {
     "name": "stdout",
     "output_type": "stream",
     "text": [
      "INF2PRES class: em\n"
     ]
    },
    {
     "data": {
      "image/png": "[encoded data removed]",
      "text/plain": [
       "<Figure size 432x288 with 1 Axes>"
      ]
     },
     "metadata": {},
     "output_type": "display_data"
    },
    {
     "name": "stdout",
     "output_type": "stream",
     "text": [
      "INF2PRES class: em\n"
     ]
    },
    {
     "data": {
      "image/png": "[encoded data removed]",
      "text/plain": [
       "<Figure size 432x288 with 1 Axes>"
      ]
     },
     "metadata": {},
     "output_type": "display_data"
    },
    {
     "name": "stdout",
     "output_type": "stream",
     "text": [
      "INF2PRES class: em\n"
     ]
    },
    {
     "data": {
      "image/png": "[encoded data removed]",
      "text/plain": [
       "<Figure size 432x288 with 1 Axes>"
      ]
     },
     "metadata": {},
     "output_type": "display_data"
    },
    {
     "name": "stdout",
     "output_type": "stream",
     "text": [
      "INF2PRES class: em\n"
     ]
    },
    {
     "data": {
      "image/png": "[encoded data removed]",
      "text/plain": [
       "<Figure size 432x288 with 1 Axes>"
      ]
     },
     "metadata": {},
     "output_type": "display_data"
    },
    {
     "name": "stdout",
     "output_type": "stream",
     "text": [
      "INF2PRES class: em\n"
     ]
    },
    {
     "data": {
      "image/png": "[encoded data removed]",
      "text/plain": [
       "<Figure size 432x288 with 1 Axes>"
      ]
     },
     "metadata": {},
     "output_type": "display_data"
    },
    {
     "name": "stdout",
     "output_type": "stream",
     "text": [
      "INF2PRES class: em\n"
     ]
    },
    {
     "data": {
      "image/png": "[encoded data removed]",
      "text/plain": [
       "<Figure size 432x288 with 1 Axes>"
      ]
     },
     "metadata": {},
     "output_type": "display_data"
    },
    {
     "name": "stdout",
     "output_type": "stream",
     "text": [
      "INF2PRES class: am\n"
     ]
    },
    {
     "data": {
      "image/png": "[encoded data removed]",
      "text/plain": [
       "<Figure size 432x288 with 1 Axes>"
      ]
     },
     "metadata": {},
     "output_type": "display_data"
    }
   ],
   "source": [
    "with open('inf2pres.input') as f:\n",
    "    glagoli = f.read().splitlines()\n",
    "    \n",
    "#napravi heatmap\n",
    "_ = [heatmap(model,gl) for gl in glagoli ]"
   ]
  },
  {
   "cell_type": "markdown",
   "id": "00cb0f1f-9743-470f-99ce-0df5f669a600",
   "metadata": {},
   "source": [
    "## Problem 2: Present stem classification"
   ]
  },
  {
   "cell_type": "code",
   "execution_count": 13,
   "id": "6065dcb8-7210-4f75-b25d-f57239def6f7",
   "metadata": {},
   "outputs": [],
   "source": [
    "from pres2inf.evaluate import evaluateOnTestSet, loadModel, heatmap\n",
    "from pres2inf.utils         import ucitajPodatke, klase_infinitiv"
   ]
  },
  {
   "cell_type": "markdown",
   "id": "7b9bf278-9f75-4417-9e4e-40fa6785c498",
   "metadata": {},
   "source": [
    "### Dataset"
   ]
  },
  {
   "cell_type": "code",
   "execution_count": 14,
   "id": "bc6ef1aa-9313-48d2-8955-1fb0edede392",
   "metadata": {},
   "outputs": [],
   "source": [
    "# dataset\n",
    "train_set, val_set, test_set, sve_kategorije = ucitajPodatke('pres2inf/data/')"
   ]
  },
  {
   "cell_type": "code",
   "execution_count": 15,
   "id": "c74e4663-185f-4927-9859-503d01a98736",
   "metadata": {
    "tags": []
   },
   "outputs": [
    {
     "name": "stdout",
     "output_type": "stream",
     "text": [
      "\\begin{tabular}{lrrrr}\n",
      "\\toprule\n",
      "{} &  train &  val &  test &  total \\\\\n",
      "classes &        &      &       &        \\\\\n",
      "\\midrule\n",
      "ati     &   2936 &  328 &   363 &   3627 \\\\\n",
      "iti     &   1752 &  195 &   217 &   2164 \\\\\n",
      "ijeti   &     27 &    4 &     4 &     35 \\\\\n",
      "jeti    &    153 &   18 &    20 &    191 \\\\\n",
      "eti     &     33 &    4 &     5 &     42 \\\\\n",
      "uti     &    332 &   37 &    42 &    411 \\\\\n",
      "ći      &    101 &   12 &    13 &    126 \\\\\n",
      "total   &   5334 &  598 &   664 &   6596 \\\\\n",
      "\\bottomrule\n",
      "\\end{tabular}\n",
      "\n"
     ]
    },
    {
     "data": {
      "text/html": [
       "<div>\n",
       "<style scoped>\n",
       "    .dataframe tbody tr th:only-of-type {\n",
       "        vertical-align: middle;\n",
       "    }\n",
       "\n",
       "    .dataframe tbody tr th {\n",
       "        vertical-align: top;\n",
       "    }\n",
       "\n",
       "    .dataframe thead th {\n",
       "        text-align: right;\n",
       "    }\n",
       "</style>\n",
       "<table border=\"1\" class=\"dataframe\">\n",
       "  <thead>\n",
       "    <tr style=\"text-align: right;\">\n",
       "      <th></th>\n",
       "      <th>train</th>\n",
       "      <th>val</th>\n",
       "      <th>test</th>\n",
       "      <th>total</th>\n",
       "    </tr>\n",
       "    <tr>\n",
       "      <th>classes</th>\n",
       "      <th></th>\n",
       "      <th></th>\n",
       "      <th></th>\n",
       "      <th></th>\n",
       "    </tr>\n",
       "  </thead>\n",
       "  <tbody>\n",
       "    <tr>\n",
       "      <th>ati</th>\n",
       "      <td>2936</td>\n",
       "      <td>328</td>\n",
       "      <td>363</td>\n",
       "      <td>3627</td>\n",
       "    </tr>\n",
       "    <tr>\n",
       "      <th>iti</th>\n",
       "      <td>1752</td>\n",
       "      <td>195</td>\n",
       "      <td>217</td>\n",
       "      <td>2164</td>\n",
       "    </tr>\n",
       "    <tr>\n",
       "      <th>ijeti</th>\n",
       "      <td>27</td>\n",
       "      <td>4</td>\n",
       "      <td>4</td>\n",
       "      <td>35</td>\n",
       "    </tr>\n",
       "    <tr>\n",
       "      <th>jeti</th>\n",
       "      <td>153</td>\n",
       "      <td>18</td>\n",
       "      <td>20</td>\n",
       "      <td>191</td>\n",
       "    </tr>\n",
       "    <tr>\n",
       "      <th>eti</th>\n",
       "      <td>33</td>\n",
       "      <td>4</td>\n",
       "      <td>5</td>\n",
       "      <td>42</td>\n",
       "    </tr>\n",
       "    <tr>\n",
       "      <th>uti</th>\n",
       "      <td>332</td>\n",
       "      <td>37</td>\n",
       "      <td>42</td>\n",
       "      <td>411</td>\n",
       "    </tr>\n",
       "    <tr>\n",
       "      <th>ći</th>\n",
       "      <td>101</td>\n",
       "      <td>12</td>\n",
       "      <td>13</td>\n",
       "      <td>126</td>\n",
       "    </tr>\n",
       "    <tr>\n",
       "      <th>total</th>\n",
       "      <td>5334</td>\n",
       "      <td>598</td>\n",
       "      <td>664</td>\n",
       "      <td>6596</td>\n",
       "    </tr>\n",
       "  </tbody>\n",
       "</table>\n",
       "</div>"
      ],
      "text/plain": [
       "         train  val  test  total\n",
       "classes                         \n",
       "ati       2936  328   363   3627\n",
       "iti       1752  195   217   2164\n",
       "ijeti       27    4     4     35\n",
       "jeti       153   18    20    191\n",
       "eti         33    4     5     42\n",
       "uti        332   37    42    411\n",
       "ći         101   12    13    126\n",
       "total     5334  598   664   6596"
      ]
     },
     "execution_count": 15,
     "metadata": {},
     "output_type": "execute_result"
    }
   ],
   "source": [
    "import pandas as pd\n",
    "train_df = pd.DataFrame(train_set,columns=['word','class'])\n",
    "val_df   = pd.DataFrame(val_set,columns=['word','class'])\n",
    "test_df  = pd.DataFrame(test_set,columns=['word','class'])\n",
    "\n",
    "\n",
    "stats = pd.DataFrame(data = \n",
    "                     {'classes' : klase_infinitiv.values(), \n",
    "                      'train' : train_df['class'].value_counts(), \n",
    "                      'val' : val_df['class'].value_counts(),\n",
    "                      'test' : test_df['class'].value_counts()},                                          \n",
    "                      \n",
    "        ).set_index('classes')\n",
    "\n",
    "        \n",
    "stats.loc['total']= stats.sum(numeric_only=True, axis=0)\n",
    "stats.loc[:,'total']= stats.sum(numeric_only=True, axis=1)\n",
    "\n",
    "print(stats.to_latex(index=True))\n",
    "\n",
    "stats"
   ]
  },
  {
   "cell_type": "markdown",
   "id": "f80b884b-ce22-4ea7-8133-58f466f94fac",
   "metadata": {},
   "source": [
    "### Model evaluation"
   ]
  },
  {
   "cell_type": "code",
   "execution_count": 16,
   "id": "ca82a7ce-a8a2-4c4c-901e-9f52f3132e16",
   "metadata": {
    "tags": []
   },
   "outputs": [
    {
     "name": "stdout",
     "output_type": "stream",
     "text": [
      " --------------Evaluation metrics: ----------------------           \n",
      " * test loss: 4.371\n",
      " * test accuracy: 0.935,\n",
      " * test rmse: 0.660,\n",
      " * test microF1: 0.765,\n",
      " * test macroF1: 0.935,\n",
      " * test weightedF1: 0.928\n"
     ]
    },
    {
     "data": {
      "image/png": "[encoded data removed]",
      "text/plain": [
       "<Figure size 720x504 with 2 Axes>"
      ]
     },
     "metadata": {},
     "output_type": "display_data"
    }
   ],
   "source": [
    "# evaluacija prethodno spremljenog modela\n",
    "model_weights_path = 'pres2inf/results/hyperparameters/hp2/model.weights'\n",
    "model = loadModel(model_weights_path)\n",
    "evaluateOnTestSet(model, test_set,sve_kategorije)"
   ]
  },
  {
   "cell_type": "markdown",
   "id": "8b6cbf2b-b3c9-4045-aca5-395dba284ae7",
   "metadata": {},
   "source": [
    "### Model testing"
   ]
  },
  {
   "cell_type": "code",
   "execution_count": 17,
   "id": "951f850a-f63a-4e33-a382-b4a3e7c5fdc9",
   "metadata": {
    "tags": []
   },
   "outputs": [
    {
     "name": "stdout",
     "output_type": "stream",
     "text": [
      "Overwriting pres2inf.input\n"
     ]
    }
   ],
   "source": [
    "%%writefile pres2inf.input\n",
    "kroatiziram\n",
    "peckam\n",
    "promiješam\n",
    "potpisujem\n",
    "uneređujem\n",
    "sperem"
   ]
  },
  {
   "cell_type": "code",
   "execution_count": 20,
   "id": "59e9f332-ad16-4a79-a4d9-83a9dcfe8ab2",
   "metadata": {
    "tags": []
   },
   "outputs": [
    {
     "name": "stdout",
     "output_type": "stream",
     "text": [
      "['kroatiziram', 'peckam', 'promiješam', 'potpisujem', 'uneređujem', 'sperem']\n"
     ]
    },
    {
     "ename": "TypeError",
     "evalue": "max() received an invalid combination of arguments - got (Tensor, float), but expected one of:\n * (Tensor input)\n * (Tensor input, name dim, bool keepdim, *, tuple of Tensors out)\n * (Tensor input, Tensor other, *, Tensor out)\n * (Tensor input, int dim, bool keepdim, *, tuple of Tensors out)\n",
     "output_type": "error",
     "traceback": [
      "\u001b[0;31m---------------------------------------------------------------------------\u001b[0m",
      "\u001b[0;31mTypeError\u001b[0m                                 Traceback (most recent call last)",
      "\u001b[0;32m/tmp/ipykernel_290211/1803587166.py\u001b[0m in \u001b[0;36m<module>\u001b[0;34m\u001b[0m\n\u001b[1;32m      4\u001b[0m \u001b[0mprint\u001b[0m\u001b[0;34m(\u001b[0m\u001b[0mglagoli\u001b[0m\u001b[0;34m)\u001b[0m\u001b[0;34m\u001b[0m\u001b[0;34m\u001b[0m\u001b[0m\n\u001b[1;32m      5\u001b[0m \u001b[0;31m#napravi heatmap\u001b[0m\u001b[0;34m\u001b[0m\u001b[0;34m\u001b[0m\u001b[0;34m\u001b[0m\u001b[0m\n\u001b[0;32m----> 6\u001b[0;31m \u001b[0m_\u001b[0m \u001b[0;34m=\u001b[0m \u001b[0;34m[\u001b[0m\u001b[0mheatmap\u001b[0m\u001b[0;34m(\u001b[0m\u001b[0mgl\u001b[0m\u001b[0;34m,\u001b[0m\u001b[0mmodel\u001b[0m\u001b[0;34m)\u001b[0m \u001b[0;32mfor\u001b[0m \u001b[0mgl\u001b[0m \u001b[0;32min\u001b[0m \u001b[0mglagoli\u001b[0m \u001b[0;34m]\u001b[0m\u001b[0;34m\u001b[0m\u001b[0;34m\u001b[0m\u001b[0m\n\u001b[0m",
      "\u001b[0;32m/tmp/ipykernel_290211/1803587166.py\u001b[0m in \u001b[0;36m<listcomp>\u001b[0;34m(.0)\u001b[0m\n\u001b[1;32m      4\u001b[0m \u001b[0mprint\u001b[0m\u001b[0;34m(\u001b[0m\u001b[0mglagoli\u001b[0m\u001b[0;34m)\u001b[0m\u001b[0;34m\u001b[0m\u001b[0;34m\u001b[0m\u001b[0m\n\u001b[1;32m      5\u001b[0m \u001b[0;31m#napravi heatmap\u001b[0m\u001b[0;34m\u001b[0m\u001b[0;34m\u001b[0m\u001b[0;34m\u001b[0m\u001b[0m\n\u001b[0;32m----> 6\u001b[0;31m \u001b[0m_\u001b[0m \u001b[0;34m=\u001b[0m \u001b[0;34m[\u001b[0m\u001b[0mheatmap\u001b[0m\u001b[0;34m(\u001b[0m\u001b[0mgl\u001b[0m\u001b[0;34m,\u001b[0m\u001b[0mmodel\u001b[0m\u001b[0;34m)\u001b[0m \u001b[0;32mfor\u001b[0m \u001b[0mgl\u001b[0m \u001b[0;32min\u001b[0m \u001b[0mglagoli\u001b[0m \u001b[0;34m]\u001b[0m\u001b[0;34m\u001b[0m\u001b[0;34m\u001b[0m\u001b[0m\n\u001b[0m",
      "\u001b[0;32m~/Radno/morphology/HR_verb_classification/pres2inf/evaluate.py\u001b[0m in \u001b[0;36mheatmap\u001b[0;34m(glagol, model)\u001b[0m\n\u001b[1;32m    112\u001b[0m     \u001b[0mpred\u001b[0m \u001b[0;34m=\u001b[0m \u001b[0mmodel\u001b[0m\u001b[0;34m(\u001b[0m\u001b[0mvekt\u001b[0m\u001b[0;34m.\u001b[0m\u001b[0munsqueeze\u001b[0m\u001b[0;34m(\u001b[0m\u001b[0mdim\u001b[0m\u001b[0;34m=\u001b[0m\u001b[0;36m0\u001b[0m\u001b[0;34m)\u001b[0m\u001b[0;34m)\u001b[0m\u001b[0;34m\u001b[0m\u001b[0;34m\u001b[0m\u001b[0m\n\u001b[1;32m    113\u001b[0m     \u001b[0;31m#print(pred)\u001b[0m\u001b[0;34m\u001b[0m\u001b[0;34m\u001b[0m\u001b[0;34m\u001b[0m\u001b[0m\n\u001b[0;32m--> 114\u001b[0;31m     \u001b[0mpred_klase\u001b[0m \u001b[0;34m=\u001b[0m \u001b[0mtorch\u001b[0m\u001b[0;34m.\u001b[0m\u001b[0mmax\u001b[0m\u001b[0;34m(\u001b[0m\u001b[0mpred\u001b[0m\u001b[0;34m,\u001b[0m \u001b[0;36m1.4\u001b[0m\u001b[0;34m)\u001b[0m\u001b[0;34m[\u001b[0m\u001b[0;36m1\u001b[0m\u001b[0;34m]\u001b[0m\u001b[0;34m\u001b[0m\u001b[0;34m\u001b[0m\u001b[0m\n\u001b[0m\u001b[1;32m    115\u001b[0m     \u001b[0mprint\u001b[0m\u001b[0;34m(\u001b[0m\u001b[0;34m'PRES2INF class:'\u001b[0m\u001b[0;34m,\u001b[0m\u001b[0mklase_infinitiv\u001b[0m\u001b[0;34m[\u001b[0m\u001b[0mpred_klase\u001b[0m\u001b[0;34m.\u001b[0m\u001b[0mitem\u001b[0m\u001b[0;34m(\u001b[0m\u001b[0;34m)\u001b[0m\u001b[0;34m]\u001b[0m\u001b[0;34m)\u001b[0m\u001b[0;34m\u001b[0m\u001b[0;34m\u001b[0m\u001b[0m\n\u001b[1;32m    116\u001b[0m     \u001b[0mheatmapZaKlasu\u001b[0m\u001b[0;34m(\u001b[0m\u001b[0mglagol\u001b[0m\u001b[0;34m,\u001b[0m\u001b[0mvekt\u001b[0m\u001b[0;34m,\u001b[0m\u001b[0mpred_klase\u001b[0m\u001b[0;34m,\u001b[0m\u001b[0mmodel\u001b[0m\u001b[0;34m)\u001b[0m\u001b[0;34m\u001b[0m\u001b[0;34m\u001b[0m\u001b[0m\n",
      "\u001b[0;31mTypeError\u001b[0m: max() received an invalid combination of arguments - got (Tensor, float), but expected one of:\n * (Tensor input)\n * (Tensor input, name dim, bool keepdim, *, tuple of Tensors out)\n * (Tensor input, Tensor other, *, Tensor out)\n * (Tensor input, int dim, bool keepdim, *, tuple of Tensors out)\n"
     ]
    }
   ],
   "source": [
    "with open('pres2inf.input') as f:\n",
    "    glagoli = f.read().splitlines()\n",
    "    \n",
    "\n",
    "#napravi heatmap\n",
    "_ = [heatmap(gl,model) for gl in glagoli ]"
   ]
  },
  {
   "cell_type": "code",
   "execution_count": null,
   "id": "c4fa08f5-2b60-4bf4-8061-230da24b0de9",
   "metadata": {},
   "outputs": [],
   "source": []
  }
 ],
 "metadata": {
  "kernelspec": {
   "display_name": "Python 3.8.5 64-bit ('base': conda)",
   "language": "python",
   "name": "python385jvsc74a57bd040d3a090f54c6569ab1632332b64b2c03c39dcf918b08424e98f38b5ae0af88f"
  },
  "language_info": {
   "codemirror_mode": {
    "name": "ipython",
    "version": 3
   },
   "file_extension": ".py",
   "mimetype": "text/x-python",
   "name": "python",
   "nbconvert_exporter": "python",
   "pygments_lexer": "ipython3",
   "version": "3.8.5"
  }
 },
 "nbformat": 4,
 "nbformat_minor": 5
}
