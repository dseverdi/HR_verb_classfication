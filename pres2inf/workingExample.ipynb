{
 "cells": [
  {
   "cell_type": "code",
   "execution_count": 1,
   "id": "d3af9fd8-b034-4dd6-a1b9-dff650c774ed",
   "metadata": {},
   "outputs": [],
   "source": [
    "from CNNTextClassifier import *\n",
    "import datetime\n",
    "from utils import *\n",
    "from evaluateModel import *"
   ]
  },
  {
   "cell_type": "code",
   "execution_count": 2,
   "id": "be40e5b6-69f6-4f13-af5e-3277598e692c",
   "metadata": {},
   "outputs": [],
   "source": [
    "train_set, val_set, test_set, sve_kategorije = ucitajPodatke('../')"
   ]
  },
  {
   "cell_type": "code",
   "execution_count": 3,
   "id": "7214ea9f-bb59-4845-b08b-824e5ef19bea",
   "metadata": {},
   "outputs": [],
   "source": [
    "emb_size=300\n",
    "out_size=len(sve_kategorije)\n",
    "batch_size=25\n",
    "output_dir=\"results/{:%Y%m%d_%H%M%S}/\".format(datetime.now())\n",
    "epochs=500\n",
    "lr=0.005\n",
    "filter_sizes=[1,2,3,5]\n",
    "num_filters = 36\n",
    "dropout_rate=0.1\n",
    "train = False #ako želimo trenirati postavimo na True, a ako samo želimo evaluirati postojeći model onda na False\n",
    "if train:\n",
    "    ft = ucitajFasttext('../../')\n",
    "    weights_matrix = getWeightsMatrix(char_list,ft)\n",
    "else:\n",
    "    weights_matrix = torch.from_numpy(np.zeros((len(char_list)+1, emb_size))).float() #dummy matrix da se ne mora ucitavati fasttext"
   ]
  },
  {
   "cell_type": "code",
   "execution_count": 4,
   "id": "9403f956-bbf1-4c26-a182-d23c40075e03",
   "metadata": {},
   "outputs": [],
   "source": [
    "# definiranje modela\n",
    "model = CNN_Text(out_size, vocab_len, emb_size, weights_matrix, filter_sizes, num_filters, dropout_rate)"
   ]
  },
  {
   "cell_type": "code",
   "execution_count": null,
   "id": "00226a5f-ef07-4d50-99d0-97305a1284fb",
   "metadata": {},
   "outputs": [],
   "source": [
    "## ako zelimo trenirati\n",
    "from trainModel import *\n",
    "model_weights_path = train(model, train_set, val_set, batch_size, output_dir, epochs, lr)\n",
    "print('naučene težine modela u spremljene u:', model_weights_path)"
   ]
  },
  {
   "cell_type": "code",
   "execution_count": 5,
   "id": "fd8d46a9-9a20-4702-a2ad-6438ce08710f",
   "metadata": {},
   "outputs": [
    {
     "name": "stdout",
     "output_type": "stream",
     "text": [
      "Final evaluation on test set\n",
      "test loss 0.248, test accuracy 0.937, test rmse 0.774, test microF1 0.771, test macroF1 0.937, test weightedF1 0.932\n",
      "tensor([[0.9597, 0.0134, 0.0027, 0.0027, 0.0000, 0.0081, 0.0134],\n",
      "        [0.0179, 0.9286, 0.0000, 0.0536, 0.0000, 0.0000, 0.0000],\n",
      "        [0.2500, 0.0000, 0.7500, 0.0000, 0.0000, 0.0000, 0.0000],\n",
      "        [0.0000, 0.3000, 0.0000, 0.7000, 0.0000, 0.0000, 0.0000],\n",
      "        [0.0000, 0.0000, 0.0000, 0.0000, 0.8000, 0.2000, 0.0000],\n",
      "        [0.0000, 0.0244, 0.0000, 0.0000, 0.0244, 0.9024, 0.0488],\n",
      "        [0.1250, 0.0000, 0.0000, 0.0000, 0.0000, 0.1250, 0.7500]])\n"
     ]
    },
    {
     "name": "stderr",
     "output_type": "stream",
     "text": [
      "/home/rcoric/klasifikacija/CNNClassification/evaluateModel.py:54: UserWarning: FixedFormatter should only be used together with FixedLocator\n",
      "  ax.set_xticklabels([''] + nazivi, rotation=90)\n",
      "/home/rcoric/klasifikacija/CNNClassification/evaluateModel.py:55: UserWarning: FixedFormatter should only be used together with FixedLocator\n",
      "  ax.set_yticklabels([''] + nazivi)\n"
     ]
    },
    {
     "data": {
      "image/png": "[encoded data removed]",
      "text/plain": [
       "<Figure size 432x288 with 2 Axes>"
      ]
     },
     "metadata": {
      "needs_background": "light"
     },
     "output_type": "display_data"
    }
   ],
   "source": [
    "# evaluacija prethodno spremljenog modela\n",
    "model_weights_path='../results/20211116_130204/model.weights'\n",
    "evaluateOnTestSet(model, model_weights_path, test_set,sve_kategorije)"
   ]
  },
  {
   "cell_type": "code",
   "execution_count": 6,
   "id": "da0ef2cc-c3b8-437b-8370-6e6bc6157742",
   "metadata": {},
   "outputs": [
    {
     "name": "stdout",
     "output_type": "stream",
     "text": [
      "infinitiv završava na: ati\n"
     ]
    },
    {
     "name": "stderr",
     "output_type": "stream",
     "text": [
      "/home/rcoric/klasifikacija/CNNClassification/evaluateModel.py:97: UserWarning: FixedFormatter should only be used together with FixedLocator\n",
      "  ax.set_xticklabels([''] + nazivi)\n"
     ]
    },
    {
     "data": {
      "image/png": "[encoded data removed]",
      "text/plain": [
       "<Figure size 432x288 with 1 Axes>"
      ]
     },
     "metadata": {
      "needs_background": "light"
     },
     "output_type": "display_data"
    },
    {
     "name": "stdout",
     "output_type": "stream",
     "text": [
      "infinitiv završava na: ati\n"
     ]
    },
    {
     "data": {
      "image/png": "[encoded data removed]",
      "text/plain": [
       "<Figure size 432x288 with 1 Axes>"
      ]
     },
     "metadata": {
      "needs_background": "light"
     },
     "output_type": "display_data"
    },
    {
     "name": "stdout",
     "output_type": "stream",
     "text": [
      "infinitiv završava na: ati\n"
     ]
    },
    {
     "data": {
      "image/png": "[encoded data removed]",
      "text/plain": [
       "<Figure size 432x288 with 1 Axes>"
      ]
     },
     "metadata": {
      "needs_background": "light"
     },
     "output_type": "display_data"
    },
    {
     "name": "stdout",
     "output_type": "stream",
     "text": [
      "infinitiv završava na: ati\n"
     ]
    },
    {
     "data": {
      "image/png": "[encoded data removed]",
      "text/plain": [
       "<Figure size 432x288 with 1 Axes>"
      ]
     },
     "metadata": {
      "needs_background": "light"
     },
     "output_type": "display_data"
    },
    {
     "name": "stdout",
     "output_type": "stream",
     "text": [
      "infinitiv završava na: ati\n"
     ]
    },
    {
     "data": {
      "image/png": "[encoded data removed]",
      "text/plain": [
       "<Figure size 432x288 with 1 Axes>"
      ]
     },
     "metadata": {
      "needs_background": "light"
     },
     "output_type": "display_data"
    },
    {
     "name": "stdout",
     "output_type": "stream",
     "text": [
      "infinitiv završava na: ati\n"
     ]
    },
    {
     "data": {
      "image/png": "[encoded data removed]",
      "text/plain": [
       "<Figure size 432x288 with 1 Axes>"
      ]
     },
     "metadata": {
      "needs_background": "light"
     },
     "output_type": "display_data"
    }
   ],
   "source": [
    "# heatmaps i predikcije za željene glagole\n",
    "glagoli = ['kroatiziram','peckam','promiješam','potpisujem','uneređujem','sperem']\n",
    "for gl in glagoli:\n",
    "    #napravi heatmap\n",
    "    heatmap(gl,model)"
   ]
  },
  {
   "cell_type": "code",
   "execution_count": null,
   "id": "a28fad30-0c9e-4243-a70a-9a6b1fcf456a",
   "metadata": {},
   "outputs": [],
   "source": []
  }
 ],
 "metadata": {
  "kernelspec": {
   "display_name": "Python 3",
   "language": "python",
   "name": "python3"
  },
  "language_info": {
   "codemirror_mode": {
    "name": "ipython",
    "version": 3
   },
   "file_extension": ".py",
   "mimetype": "text/x-python",
   "name": "python",
   "nbconvert_exporter": "python",
   "pygments_lexer": "ipython3",
   "version": "3.8.8"
  }
 },
 "nbformat": 4,
 "nbformat_minor": 5
}
