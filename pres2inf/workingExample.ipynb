{
 "cells": [
  {
   "cell_type": "code",
   "execution_count": 4,
   "id": "d3af9fd8-b034-4dd6-a1b9-dff650c774ed",
   "metadata": {},
   "outputs": [
    {
     "ename": "ImportError",
     "evalue": "attempted relative import with no known parent package",
     "output_type": "error",
     "traceback": [
      "\u001b[0;31m---------------------------------------------------------------------------\u001b[0m",
      "\u001b[0;31mImportError\u001b[0m                               Traceback (most recent call last)",
      "\u001b[0;32m/tmp/ipykernel_3815190/3301848647.py\u001b[0m in \u001b[0;36m<module>\u001b[0;34m\u001b[0m\n\u001b[1;32m      2\u001b[0m \u001b[0;32mimport\u001b[0m \u001b[0mdatetime\u001b[0m\u001b[0;34m\u001b[0m\u001b[0;34m\u001b[0m\u001b[0m\n\u001b[1;32m      3\u001b[0m \u001b[0;32mfrom\u001b[0m \u001b[0mutils\u001b[0m \u001b[0;32mimport\u001b[0m \u001b[0;34m*\u001b[0m\u001b[0;34m\u001b[0m\u001b[0;34m\u001b[0m\u001b[0m\n\u001b[0;32m----> 4\u001b[0;31m \u001b[0;32mfrom\u001b[0m \u001b[0mevaluate\u001b[0m \u001b[0;32mimport\u001b[0m \u001b[0;34m*\u001b[0m\u001b[0;34m\u001b[0m\u001b[0;34m\u001b[0m\u001b[0m\n\u001b[0m",
      "\u001b[0;32m~/Radno/morphology/HR_verb_classification/pres2inf/evaluate.py\u001b[0m in \u001b[0;36m<module>\u001b[0;34m\u001b[0m\n\u001b[1;32m      9\u001b[0m \u001b[0;32mimport\u001b[0m \u001b[0mmatplotlib\u001b[0m\u001b[0;34m.\u001b[0m\u001b[0mticker\u001b[0m \u001b[0;32mas\u001b[0m \u001b[0mticker\u001b[0m\u001b[0;34m\u001b[0m\u001b[0;34m\u001b[0m\u001b[0m\n\u001b[1;32m     10\u001b[0m \u001b[0;32mimport\u001b[0m \u001b[0mmath\u001b[0m\u001b[0;34m\u001b[0m\u001b[0;34m\u001b[0m\u001b[0m\n\u001b[0;32m---> 11\u001b[0;31m \u001b[0;32mfrom\u001b[0m \u001b[0;34m.\u001b[0m\u001b[0mutils\u001b[0m \u001b[0;32mimport\u001b[0m \u001b[0mget_pad_chars\u001b[0m\u001b[0;34m,\u001b[0m \u001b[0mwords2charindices\u001b[0m\u001b[0;34m,\u001b[0m \u001b[0mmax_word_length\u001b[0m\u001b[0;34m,\u001b[0m \u001b[0mchar_pad_token\u001b[0m\u001b[0;34m,\u001b[0m \u001b[0mnazivi\u001b[0m\u001b[0;34m,\u001b[0m \u001b[0mklase_infinitiv\u001b[0m\u001b[0;34m\u001b[0m\u001b[0;34m\u001b[0m\u001b[0m\n\u001b[0m\u001b[1;32m     12\u001b[0m \u001b[0;34m\u001b[0m\u001b[0m\n\u001b[1;32m     13\u001b[0m \u001b[0;32mdef\u001b[0m \u001b[0mevaluateOnTestSet\u001b[0m\u001b[0;34m(\u001b[0m\u001b[0mmodel\u001b[0m\u001b[0;34m,\u001b[0m \u001b[0mparams_outputh_path\u001b[0m\u001b[0;34m,\u001b[0m \u001b[0mtest_set\u001b[0m\u001b[0;34m,\u001b[0m\u001b[0msve_kategorije\u001b[0m\u001b[0;34m)\u001b[0m\u001b[0;34m:\u001b[0m\u001b[0;34m\u001b[0m\u001b[0;34m\u001b[0m\u001b[0m\n",
      "\u001b[0;31mImportError\u001b[0m: attempted relative import with no known parent package"
     ]
    }
   ],
   "source": [
    "from CNNTextClassifier import *\n",
    "import datetime\n",
    "from utils import *\n",
    "from evaluate import *"
   ]
  },
  {
   "cell_type": "code",
   "execution_count": 5,
   "id": "be40e5b6-69f6-4f13-af5e-3277598e692c",
   "metadata": {},
   "outputs": [
    {
     "ename": "FileNotFoundError",
     "evalue": "[Errno 2] No such file or directory: '../glagoli_train.txt'",
     "output_type": "error",
     "traceback": [
      "\u001b[0;31m---------------------------------------------------------------------------\u001b[0m",
      "\u001b[0;31mFileNotFoundError\u001b[0m                         Traceback (most recent call last)",
      "\u001b[0;32m/tmp/ipykernel_3815190/2096493509.py\u001b[0m in \u001b[0;36m<module>\u001b[0;34m\u001b[0m\n\u001b[1;32m      1\u001b[0m \u001b[0;32mfrom\u001b[0m \u001b[0mutils\u001b[0m \u001b[0;32mimport\u001b[0m \u001b[0mucitajPodatke\u001b[0m\u001b[0;34m\u001b[0m\u001b[0;34m\u001b[0m\u001b[0m\n\u001b[0;32m----> 2\u001b[0;31m \u001b[0mtrain_set\u001b[0m\u001b[0;34m,\u001b[0m \u001b[0mval_set\u001b[0m\u001b[0;34m,\u001b[0m \u001b[0mtest_set\u001b[0m\u001b[0;34m,\u001b[0m \u001b[0msve_kategorije\u001b[0m \u001b[0;34m=\u001b[0m \u001b[0mucitajPodatke\u001b[0m\u001b[0;34m(\u001b[0m\u001b[0;34m'../'\u001b[0m\u001b[0;34m)\u001b[0m\u001b[0;34m\u001b[0m\u001b[0;34m\u001b[0m\u001b[0m\n\u001b[0m",
      "\u001b[0;32m~/Radno/morphology/HR_verb_classification/pres2inf/utils.py\u001b[0m in \u001b[0;36mucitajPodatke\u001b[0;34m(path)\u001b[0m\n\u001b[1;32m     51\u001b[0m     \"\"\"Učitava glagole u skupove za treniranje, validaciju i testiranje.\n\u001b[1;32m     52\u001b[0m     path treba biti u obliku putanja_do_fileova i obvezno na kraju /.\"\"\"\n\u001b[0;32m---> 53\u001b[0;31m     \u001b[0mglagoli_train_file\u001b[0m \u001b[0;34m=\u001b[0m \u001b[0mopen\u001b[0m\u001b[0;34m(\u001b[0m\u001b[0mpath\u001b[0m\u001b[0;34m+\u001b[0m\u001b[0;34m'glagoli_train.txt'\u001b[0m\u001b[0;34m)\u001b[0m\u001b[0;34m\u001b[0m\u001b[0;34m\u001b[0m\u001b[0m\n\u001b[0m\u001b[1;32m     54\u001b[0m     \u001b[0mtrain_set\u001b[0m \u001b[0;34m=\u001b[0m \u001b[0;34m[\u001b[0m\u001b[0;34m]\u001b[0m\u001b[0;34m\u001b[0m\u001b[0;34m\u001b[0m\u001b[0m\n\u001b[1;32m     55\u001b[0m     \u001b[0msve_kategorije\u001b[0m \u001b[0;34m=\u001b[0m \u001b[0;34m[\u001b[0m\u001b[0;34m]\u001b[0m\u001b[0;34m\u001b[0m\u001b[0;34m\u001b[0m\u001b[0m\n",
      "\u001b[0;31mFileNotFoundError\u001b[0m: [Errno 2] No such file or directory: '../glagoli_train.txt'"
     ]
    }
   ],
   "source": [
    "from utils import ucitajPodatke\n",
    "train_set, val_set, test_set, sve_kategorije = ucitajPodatke('../')"
   ]
  },
  {
   "cell_type": "code",
   "execution_count": 16,
   "id": "7214ea9f-bb59-4845-b08b-824e5ef19bea",
   "metadata": {},
   "outputs": [],
   "source": [
    "emb_size=300\n",
    "out_size=len(sve_kategorije)\n",
    "batch_size=50\n",
    "output_dir=\"results/{:%Y%m%d_%H%M%S}/\".format(datetime.now())\n",
    "epochs=500\n",
    "lr=0.005\n",
    "filter_sizes=[1,2,3,5]\n",
    "num_filters = 36\n",
    "dropout_rate=0.1\n",
    "train = False #ako želimo trenirati postavimo na True, a ako samo želimo evaluirati postojeći model onda na False\n",
    "if train:\n",
    "    ft = ucitajFasttext('../../')\n",
    "    weights_matrix = getWeightsMatrix(char_list,ft)\n",
    "else:\n",
    "    weights_matrix = torch.from_numpy(np.zeros((len(char_list)+1, emb_size))).float() #dummy matrix da se ne mora ucitavati fasttext"
   ]
  },
  {
   "cell_type": "code",
   "execution_count": 17,
   "id": "9403f956-bbf1-4c26-a182-d23c40075e03",
   "metadata": {},
   "outputs": [],
   "source": [
    "# definiranje modela\n",
    "model = CNN_Text(out_size, vocab_len, emb_size, weights_matrix, filter_sizes, num_filters, dropout_rate)\n",
    "if train:\n",
    "    model = model.to(\"cuda\")"
   ]
  },
  {
   "cell_type": "code",
   "execution_count": 14,
   "id": "00226a5f-ef07-4d50-99d0-97305a1284fb",
   "metadata": {},
   "outputs": [
    {
     "name": "stdout",
     "output_type": "stream",
     "text": [
      "train loss 0.264, val loss 0.280, val accuracy 0.921, and val rmse 0.718\n",
      "train loss 0.047, val loss 0.266, val accuracy 0.945, and val rmse 0.423\n",
      "train loss 0.049, val loss 0.297, val accuracy 0.955, and val rmse 0.304\n",
      "train loss 0.032, val loss 0.397, val accuracy 0.957, and val rmse 0.360\n",
      "train loss 0.033, val loss 0.410, val accuracy 0.963, and val rmse 0.271\n",
      "train loss 0.029, val loss 0.519, val accuracy 0.958, and val rmse 0.354\n",
      "train loss 0.025, val loss 0.550, val accuracy 0.960, and val rmse 0.290\n",
      "train loss 0.029, val loss 0.550, val accuracy 0.952, and val rmse 0.425\n",
      "train loss 0.018, val loss 0.589, val accuracy 0.962, and val rmse 0.302\n",
      "train loss 0.028, val loss 0.631, val accuracy 0.957, and val rmse 0.323\n",
      "naučene težine modela u spremljene u: results/20211124_223131/model.weights\n"
     ]
    }
   ],
   "source": [
    "## ako zelimo trenirati\n",
    "from trainModel import *\n",
    "model_weights_path = train(model, train_set, val_set, batch_size, output_dir, epochs, lr)\n",
    "print('naučene težine modela u spremljene u:', model_weights_path)"
   ]
  },
  {
   "cell_type": "code",
   "execution_count": 20,
   "id": "fd8d46a9-9a20-4702-a2ad-6438ce08710f",
   "metadata": {},
   "outputs": [
    {
     "name": "stdout",
     "output_type": "stream",
     "text": [
      "Final evaluation on test set\n",
      "test loss 0.169, test accuracy 0.950, test rmse 0.526, test microF1 0.841, test macroF1 0.950, test weightedF1 0.948\n",
      "tensor([[0.9834, 0.0055, 0.0000, 0.0028, 0.0000, 0.0055, 0.0028],\n",
      "        [0.0265, 0.9292, 0.0000, 0.0442, 0.0000, 0.0000, 0.0000],\n",
      "        [0.2000, 0.0000, 0.8000, 0.0000, 0.0000, 0.0000, 0.0000],\n",
      "        [0.0000, 0.3077, 0.0000, 0.6923, 0.0000, 0.0000, 0.0000],\n",
      "        [0.0000, 0.0000, 0.0000, 0.0000, 0.8000, 0.2000, 0.0000],\n",
      "        [0.0000, 0.0227, 0.0000, 0.0000, 0.0227, 0.8864, 0.0682],\n",
      "        [0.0000, 0.0000, 0.0000, 0.0000, 0.0000, 0.0000, 1.0000]])\n"
     ]
    },
    {
     "name": "stderr",
     "output_type": "stream",
     "text": [
      "/home/rcoric/klasifikacija/CNNClassification/evaluateModel.py:55: UserWarning: FixedFormatter should only be used together with FixedLocator\n",
      "  ax.set_xticklabels([''] + nazivi, rotation=90)\n",
      "/home/rcoric/klasifikacija/CNNClassification/evaluateModel.py:56: UserWarning: FixedFormatter should only be used together with FixedLocator\n",
      "  ax.set_yticklabels([''] + nazivi)\n"
     ]
    },
    {
     "data": {
      "image/png": "[encoded data removed]",
      "text/plain": [
       "<Figure size 432x288 with 2 Axes>"
      ]
     },
     "metadata": {
      "needs_background": "light"
     },
     "output_type": "display_data"
    }
   ],
   "source": [
    "# evaluacija prethodno spremljenog modela\n",
    "#model_weights_path='../results/20211116_130204/model.weights'\n",
    "model_weights_path = 'results/hyperparameters/hp2/model.weights'\n",
    "#model_weights_path = 'results/20211124_114930/model.weights'\n",
    "model_weights_path = 'results/20211124_223131/model.weights'\n",
    "evaluateOnTestSet(model, model_weights_path, test_set,sve_kategorije)"
   ]
  },
  {
   "cell_type": "code",
   "execution_count": 6,
   "id": "da0ef2cc-c3b8-437b-8370-6e6bc6157742",
   "metadata": {},
   "outputs": [
    {
     "name": "stdout",
     "output_type": "stream",
     "text": [
      "infinitiv završava na: ati\n"
     ]
    },
    {
     "name": "stderr",
     "output_type": "stream",
     "text": [
      "/home/rcoric/klasifikacija/CNNClassification/evaluateModel.py:98: UserWarning: FixedFormatter should only be used together with FixedLocator\n",
      "  ax.set_xticklabels([''] + nazivi)\n"
     ]
    },
    {
     "data": {
      "image/png": "[encoded data removed]",
      "text/plain": [
       "<Figure size 432x288 with 1 Axes>"
      ]
     },
     "metadata": {
      "needs_background": "light"
     },
     "output_type": "display_data"
    },
    {
     "name": "stdout",
     "output_type": "stream",
     "text": [
      "infinitiv završava na: ati\n"
     ]
    },
    {
     "data": {
      "image/png": "[encoded data removed]",
      "text/plain": [
       "<Figure size 432x288 with 1 Axes>"
      ]
     },
     "metadata": {
      "needs_background": "light"
     },
     "output_type": "display_data"
    },
    {
     "name": "stdout",
     "output_type": "stream",
     "text": [
      "infinitiv završava na: ati\n"
     ]
    },
    {
     "data": {
      "image/png": "[encoded data removed]",
      "text/plain": [
       "<Figure size 432x288 with 1 Axes>"
      ]
     },
     "metadata": {
      "needs_background": "light"
     },
     "output_type": "display_data"
    },
    {
     "name": "stdout",
     "output_type": "stream",
     "text": [
      "infinitiv završava na: ati\n"
     ]
    },
    {
     "data": {
      "image/png": "[encoded data removed]",
      "text/plain": [
       "<Figure size 432x288 with 1 Axes>"
      ]
     },
     "metadata": {
      "needs_background": "light"
     },
     "output_type": "display_data"
    },
    {
     "name": "stdout",
     "output_type": "stream",
     "text": [
      "infinitiv završava na: ati\n"
     ]
    },
    {
     "data": {
      "image/png": "[encoded data removed]",
      "text/plain": [
       "<Figure size 432x288 with 1 Axes>"
      ]
     },
     "metadata": {
      "needs_background": "light"
     },
     "output_type": "display_data"
    },
    {
     "name": "stdout",
     "output_type": "stream",
     "text": [
      "infinitiv završava na: ati\n"
     ]
    },
    {
     "data": {
      "image/png": "[encoded data removed]",
      "text/plain": [
       "<Figure size 432x288 with 1 Axes>"
      ]
     },
     "metadata": {
      "needs_background": "light"
     },
     "output_type": "display_data"
    }
   ],
   "source": [
    "# heatmaps i predikcije za željene glagole\n",
    "glagoli = ['kroatiziram','peckam','promiješam','potpisujem','uneređujem','sperem']\n",
    "for gl in glagoli:\n",
    "    #napravi heatmap\n",
    "    heatmap(gl,model)"
   ]
  },
  {
   "cell_type": "code",
   "execution_count": null,
   "id": "a28fad30-0c9e-4243-a70a-9a6b1fcf456a",
   "metadata": {},
   "outputs": [],
   "source": []
  }
 ],
 "metadata": {
  "kernelspec": {
   "display_name": "Python 3 (ipykernel)",
   "language": "python",
   "name": "python3"
  },
  "language_info": {
   "codemirror_mode": {
    "name": "ipython",
    "version": 3
   },
   "file_extension": ".py",
   "mimetype": "text/x-python",
   "name": "python",
   "nbconvert_exporter": "python",
   "pygments_lexer": "ipython3",
   "version": "3.8.5"
  }
 },
 "nbformat": 4,
 "nbformat_minor": 5
}
