{
 "cells": [
  {
   "cell_type": "markdown",
   "id": "418b0519",
   "metadata": {},
   "source": [
    "Authors: Rebeka Ćorić, Mario Essert, Domagoj Ševerdija"
   ]
  },
  {
   "cell_type": "markdown",
   "id": "6075f1c9",
   "metadata": {},
   "source": [
    "**Abstract:** This paper gives a model for classifing croatian verbs with respect to the infinitive form.  The output of our model is twofold: for every class it gives probability of being in certain class and designates verb morphs that are instrumental to classification. "
   ]
  },
  {
   "cell_type": "markdown",
   "id": "d5e87ca3",
   "metadata": {},
   "source": [
    "## Problem definition"
   ]
  },
  {
   "cell_type": "markdown",
   "id": "82b79863",
   "metadata": {},
   "source": [
    "Linguistic approach definition of our problem ..."
   ]
  },
  {
   "cell_type": "markdown",
   "id": "25eed714",
   "metadata": {},
   "source": [
    "## model"
   ]
  },
  {
   "cell_type": "markdown",
   "id": "fea139b1",
   "metadata": {},
   "source": [
    "Model is based on Convolutional Neural Network with final fully connected layer with softmax prediction on $n$ labels. "
   ]
  },
  {
   "cell_type": "code",
   "execution_count": 1,
   "id": "2b342cb8",
   "metadata": {},
   "outputs": [
    {
     "name": "stderr",
     "output_type": "stream",
     "text": [
      "Warning : `load_model` does not return WordVectorModel or SupervisedModel any more, but a `FastText` object which is very similar.\n"
     ]
    }
   ],
   "source": [
    "from CNNmodel import *"
   ]
  },
  {
   "cell_type": "code",
   "execution_count": 2,
   "id": "8c45294f",
   "metadata": {},
   "outputs": [],
   "source": [
    "#ucitaj podatke ili model\n",
    "train_set, val_set, test_set, sve_kategorije = ucitajPodatke()"
   ]
  },
  {
   "cell_type": "markdown",
   "id": "6e766617",
   "metadata": {},
   "source": [
    "parameters of model"
   ]
  },
  {
   "cell_type": "code",
   "execution_count": 3,
   "id": "b1069142",
   "metadata": {},
   "outputs": [],
   "source": [
    "emb_size = 300\n",
    "out_size = len(sve_kategorije)\n",
    "batch_size = 25\n",
    "output_dir =\"results/{:%Y%m%d_%H%M%S}/\".format(datetime.now())\n",
    "epochs = 500\n",
    "lr = 0.005\n",
    "filter_sizes = [1,2,3,5]\n",
    "num_filters  = 36\n",
    "dropout_rate = 0.1\n",
    "model_weights_path='model/model.weights'"
   ]
  },
  {
   "cell_type": "markdown",
   "id": "4e79c72f",
   "metadata": {},
   "source": [
    "## Training"
   ]
  },
  {
   "cell_type": "code",
   "execution_count": 12,
   "id": "f87a8a4e",
   "metadata": {},
   "outputs": [
    {
     "name": "stdout",
     "output_type": "stream",
     "text": [
      "trenirani model iz : model/model.weights\n"
     ]
    }
   ],
   "source": [
    "\n",
    "#treniraj model\n",
    "preload = True\n",
    "model = CNN_Text(out_size, vocab_len, emb_size, weights_matrix, filter_sizes, num_filters, dropout_rate)\n",
    "model_weights_path = train(model, train_set, val_set, batch_size, output_dir, epochs, lr) if not model_weights_path else model_weights_path\n",
    "\n",
    "model.load_state_dict(torch.load(model_weights_path))\n",
    "print('trenirani model iz :', model_weights_path)\n",
    "\n",
    "\n",
    "\n"
   ]
  },
  {
   "cell_type": "markdown",
   "id": "2856969b",
   "metadata": {},
   "source": [
    "## Evalutation"
   ]
  },
  {
   "cell_type": "code",
   "execution_count": 6,
   "id": "42e910dd",
   "metadata": {},
   "outputs": [
    {
     "name": "stdout",
     "output_type": "stream",
     "text": [
      "Final evaluation on test set\n",
      "test loss 0.248, test accuracy 0.937, test rmse 0.774, test microF1 0.771, test macroF1 0.937, test weightedF1 0.932\n",
      "tensor([[0.9597, 0.0134, 0.0027, 0.0027, 0.0000, 0.0081, 0.0134],\n",
      "        [0.0179, 0.9286, 0.0000, 0.0536, 0.0000, 0.0000, 0.0000],\n",
      "        [0.2500, 0.0000, 0.7500, 0.0000, 0.0000, 0.0000, 0.0000],\n",
      "        [0.0000, 0.3000, 0.0000, 0.7000, 0.0000, 0.0000, 0.0000],\n",
      "        [0.0000, 0.0000, 0.0000, 0.0000, 0.8000, 0.2000, 0.0000],\n",
      "        [0.0000, 0.0244, 0.0000, 0.0000, 0.0244, 0.9024, 0.0488],\n",
      "        [0.1250, 0.0000, 0.0000, 0.0000, 0.0000, 0.1250, 0.7500]])\n"
     ]
    },
    {
     "name": "stderr",
     "output_type": "stream",
     "text": [
      "/home/dseverdi/Radno/morphology/HR_glagoli/CNNmodel.py:236: UserWarning: FixedFormatter should only be used together with FixedLocator\n",
      "  ax.set_xticklabels([''] + nazivi, rotation=90)\n",
      "/home/dseverdi/Radno/morphology/HR_glagoli/CNNmodel.py:237: UserWarning: FixedFormatter should only be used together with FixedLocator\n",
      "  ax.set_yticklabels([''] + nazivi)\n"
     ]
    },
    {
     "data": {
      "image/png": "[encoded data removed]",
      "text/plain": [
       "<Figure size 432x288 with 2 Axes>"
      ]
     },
     "metadata": {
      "needs_background": "light"
     },
     "output_type": "display_data"
    }
   ],
   "source": [
    "#evaluiraj na skupu za testiranje\n",
    "#model_weights_path='results/20211116_130204/model.weights'\n",
    "evaluateOnTestSet(model, model_weights_path, test_set,sve_kategorije)"
   ]
  },
  {
   "cell_type": "markdown",
   "id": "1d01df62",
   "metadata": {},
   "source": [
    "## Testing"
   ]
  },
  {
   "cell_type": "markdown",
   "id": "b8437c7d",
   "metadata": {},
   "source": [
    "Model uses heatmaps to emphasize characters/morphemes which contributed to the classification. "
   ]
  },
  {
   "cell_type": "code",
   "execution_count": 19,
   "id": "8576afe2",
   "metadata": {},
   "outputs": [
    {
     "name": "stdout",
     "output_type": "stream",
     "text": [
      "infinitiv završava na: ati\n"
     ]
    },
    {
     "data": {
      "image/png": "[encoded data removed]",
      "text/plain": [
       "<Figure size 432x288 with 1 Axes>"
      ]
     },
     "metadata": {
      "needs_background": "light"
     },
     "output_type": "display_data"
    },
    {
     "name": "stdout",
     "output_type": "stream",
     "text": [
      "infinitiv završava na: ati\n"
     ]
    },
    {
     "data": {
      "image/png": "[encoded data removed]",
      "text/plain": [
       "<Figure size 432x288 with 1 Axes>"
      ]
     },
     "metadata": {
      "needs_background": "light"
     },
     "output_type": "display_data"
    },
    {
     "name": "stdout",
     "output_type": "stream",
     "text": [
      "infinitiv završava na: ati\n"
     ]
    },
    {
     "data": {
      "image/png": "[encoded data removed]",
      "text/plain": [
       "<Figure size 432x288 with 1 Axes>"
      ]
     },
     "metadata": {
      "needs_background": "light"
     },
     "output_type": "display_data"
    },
    {
     "name": "stdout",
     "output_type": "stream",
     "text": [
      "infinitiv završava na: ati\n"
     ]
    },
    {
     "data": {
      "image/png": "[encoded data removed]",
      "text/plain": [
       "<Figure size 432x288 with 1 Axes>"
      ]
     },
     "metadata": {
      "needs_background": "light"
     },
     "output_type": "display_data"
    },
    {
     "name": "stdout",
     "output_type": "stream",
     "text": [
      "infinitiv završava na: ati\n"
     ]
    },
    {
     "data": {
      "image/png": "[encoded data removed]",
      "text/plain": [
       "<Figure size 432x288 with 1 Axes>"
      ]
     },
     "metadata": {
      "needs_background": "light"
     },
     "output_type": "display_data"
    },
    {
     "name": "stdout",
     "output_type": "stream",
     "text": [
      "infinitiv završava na: ati\n"
     ]
    },
    {
     "data": {
      "image/png": "[encoded data removed]",
      "text/plain": [
       "<Figure size 432x288 with 1 Axes>"
      ]
     },
     "metadata": {
      "needs_background": "light"
     },
     "output_type": "display_data"
    },
    {
     "name": "stdout",
     "output_type": "stream",
     "text": [
      "infinitiv završava na: ati\n"
     ]
    },
    {
     "data": {
      "image/png": "[encoded data removed]",
      "text/plain": [
       "<Figure size 432x288 with 1 Axes>"
      ]
     },
     "metadata": {
      "needs_background": "light"
     },
     "output_type": "display_data"
    }
   ],
   "source": [
    "\n",
    "glagoli = ['kroatiziram','peckam','promiješam','potpisujem','uneređujem','sperem','gledam']\n",
    "\n",
    "\n",
    "for gl in glagoli:\n",
    "    #napravi heatmap\n",
    "    heatmap(gl,model)"
   ]
  },
  {
   "cell_type": "code",
   "execution_count": 20,
   "id": "c3af4137",
   "metadata": {},
   "outputs": [
    {
     "name": "stdout",
     "output_type": "stream",
     "text": [
      "infinitiv završava na: iti\n"
     ]
    },
    {
     "data": {
      "image/png": "[encoded data removed]",
      "text/plain": [
       "<Figure size 432x288 with 1 Axes>"
      ]
     },
     "metadata": {
      "needs_background": "light"
     },
     "output_type": "display_data"
    },
    {
     "name": "stdout",
     "output_type": "stream",
     "text": [
      "infinitiv završava na: iti\n"
     ]
    },
    {
     "data": {
      "image/png": "[encoded data removed]",
      "text/plain": [
       "<Figure size 432x288 with 1 Axes>"
      ]
     },
     "metadata": {
      "needs_background": "light"
     },
     "output_type": "display_data"
    },
    {
     "name": "stdout",
     "output_type": "stream",
     "text": [
      "infinitiv završava na: iti\n"
     ]
    },
    {
     "data": {
      "image/png": "[encoded data removed]",
      "text/plain": [
       "<Figure size 432x288 with 1 Axes>"
      ]
     },
     "metadata": {
      "needs_background": "light"
     },
     "output_type": "display_data"
    },
    {
     "name": "stdout",
     "output_type": "stream",
     "text": [
      "infinitiv završava na: iti\n"
     ]
    },
    {
     "data": {
      "image/png": "[encoded data removed]",
      "text/plain": [
       "<Figure size 432x288 with 1 Axes>"
      ]
     },
     "metadata": {
      "needs_background": "light"
     },
     "output_type": "display_data"
    }
   ],
   "source": [
    "'uspostavim','premlatim','oblijepim', 'povadim'\n",
    "\n",
    "\n",
    "glagoli = ['uspostavim','premlatim','oblijepim', 'povadim']\n",
    "\n",
    "\n",
    "for gl in glagoli:\n",
    "    #napravi heatmap\n",
    "    heatmap(gl,model)"
   ]
  },
  {
   "cell_type": "code",
   "execution_count": 21,
   "id": "6a0435e2",
   "metadata": {},
   "outputs": [
    {
     "name": "stdout",
     "output_type": "stream",
     "text": [
      "infinitiv završava na: uti\n"
     ]
    },
    {
     "data": {
      "image/png": "[encoded data removed]",
      "text/plain": [
       "<Figure size 432x288 with 1 Axes>"
      ]
     },
     "metadata": {
      "needs_background": "light"
     },
     "output_type": "display_data"
    },
    {
     "name": "stdout",
     "output_type": "stream",
     "text": [
      "infinitiv završava na: uti\n"
     ]
    },
    {
     "data": {
      "image/png": "[encoded data removed]",
      "text/plain": [
       "<Figure size 432x288 with 1 Axes>"
      ]
     },
     "metadata": {
      "needs_background": "light"
     },
     "output_type": "display_data"
    },
    {
     "name": "stdout",
     "output_type": "stream",
     "text": [
      "infinitiv završava na: ći\n"
     ]
    },
    {
     "data": {
      "image/png": "[encoded data removed]",
      "text/plain": [
       "<Figure size 432x288 with 1 Axes>"
      ]
     },
     "metadata": {
      "needs_background": "light"
     },
     "output_type": "display_data"
    },
    {
     "name": "stdout",
     "output_type": "stream",
     "text": [
      "infinitiv završava na: ati\n"
     ]
    },
    {
     "data": {
      "image/png": "[encoded data removed]",
      "text/plain": [
       "<Figure size 432x288 with 1 Axes>"
      ]
     },
     "metadata": {
      "needs_background": "light"
     },
     "output_type": "display_data"
    },
    {
     "name": "stdout",
     "output_type": "stream",
     "text": [
      "infinitiv završava na: ći\n"
     ]
    },
    {
     "data": {
      "image/png": "[encoded data removed]",
      "text/plain": [
       "<Figure size 432x288 with 1 Axes>"
      ]
     },
     "metadata": {
      "needs_background": "light"
     },
     "output_type": "display_data"
    }
   ],
   "source": [
    "glagoli = ['izmaknem','zanemognem','poreknem', 'zapečem','nađem']\n",
    "\n",
    "for gl in glagoli:\n",
    "    #napravi heatmap\n",
    "    heatmap(gl,model)"
   ]
  },
  {
   "cell_type": "code",
   "execution_count": null,
   "id": "224f76b4",
   "metadata": {},
   "outputs": [],
   "source": []
  }
 ],
 "metadata": {
  "kernelspec": {
   "display_name": "Python 3.8.5 64-bit ('base': conda)",
   "language": "python",
   "name": "python385jvsc74a57bd040d3a090f54c6569ab1632332b64b2c03c39dcf918b08424e98f38b5ae0af88f"
  },
  "language_info": {
   "codemirror_mode": {
    "name": "ipython",
    "version": 3
   },
   "file_extension": ".py",
   "mimetype": "text/x-python",
   "name": "python",
   "nbconvert_exporter": "python",
   "pygments_lexer": "ipython3",
   "version": "3.8.5"
  }
 },
 "nbformat": 4,
 "nbformat_minor": 5
}
