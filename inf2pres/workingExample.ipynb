{
 "cells": [
  {
   "cell_type": "code",
   "execution_count": 11,
   "id": "d3af9fd8-b034-4dd6-a1b9-dff650c774ed",
   "metadata": {},
   "outputs": [],
   "source": [
    "from CNNTextClassifier import *\n",
    "import datetime\n",
    "from utils import *\n",
    "from evaluateModel import *"
   ]
  },
  {
   "cell_type": "code",
   "execution_count": 12,
   "id": "be40e5b6-69f6-4f13-af5e-3277598e692c",
   "metadata": {},
   "outputs": [],
   "source": [
    "train_set, val_set, test_set, sve_kategorije = ucitajPodatke('')"
   ]
  },
  {
   "cell_type": "code",
   "execution_count": 13,
   "id": "7214ea9f-bb59-4845-b08b-824e5ef19bea",
   "metadata": {},
   "outputs": [
    {
     "name": "stderr",
     "output_type": "stream",
     "text": [
      "Warning : `load_model` does not return WordVectorModel or SupervisedModel any more, but a `FastText` object which is very similar.\n"
     ]
    }
   ],
   "source": [
    "emb_size=300\n",
    "out_size=len(sve_kategorije)\n",
    "batch_size=25\n",
    "output_dir=\"results/{:%Y%m%d_%H%M%S}/\".format(datetime.now())\n",
    "epochs=500\n",
    "lr=0.005\n",
    "filter_sizes=[1,2,3,5]\n",
    "num_filters = 36\n",
    "dropout_rate=0.1\n",
    "train = True #ako želimo trenirati postavimo na True, a ako samo želimo evaluirati postojeći model onda na False\n",
    "if train:\n",
    "    ft = ucitajFasttext('../../')\n",
    "    weights_matrix = getWeightsMatrix(char_list,ft)\n",
    "else:\n",
    "    weights_matrix = torch.from_numpy(np.zeros((len(char_list)+1, emb_size))).float() #dummy matrix da se ne mora ucitavati fasttext"
   ]
  },
  {
   "cell_type": "code",
   "execution_count": 14,
   "id": "9403f956-bbf1-4c26-a182-d23c40075e03",
   "metadata": {},
   "outputs": [],
   "source": [
    "# definiranje modela\n",
    "model = CNN_Text(out_size, vocab_len, emb_size, weights_matrix, filter_sizes, num_filters, dropout_rate)"
   ]
  },
  {
   "cell_type": "code",
   "execution_count": 15,
   "id": "00226a5f-ef07-4d50-99d0-97305a1284fb",
   "metadata": {},
   "outputs": [
    {
     "name": "stdout",
     "output_type": "stream",
     "text": [
      "train loss 0.350, val loss 0.312, val accuracy 0.890, and val rmse 1.022\n",
      "train loss 0.123, val loss 0.320, val accuracy 0.929, and val rmse 0.671\n",
      "train loss 0.088, val loss 0.406, val accuracy 0.924, and val rmse 0.795\n",
      "train loss 0.086, val loss 0.416, val accuracy 0.936, and val rmse 0.679\n",
      "train loss 0.087, val loss 0.448, val accuracy 0.936, and val rmse 0.731\n",
      "train loss 0.073, val loss 0.476, val accuracy 0.926, and val rmse 0.720\n",
      "train loss 0.071, val loss 0.567, val accuracy 0.924, and val rmse 0.767\n",
      "train loss 0.080, val loss 0.590, val accuracy 0.939, and val rmse 0.638\n",
      "train loss 0.061, val loss 0.585, val accuracy 0.929, and val rmse 0.720\n",
      "train loss 0.061, val loss 0.587, val accuracy 0.939, and val rmse 0.626\n",
      "naučene težine modela u spremljene u: results/20211117_193445/model.weights\n"
     ]
    }
   ],
   "source": [
    "## ako zelimo trenirati\n",
    "from trainModel import *\n",
    "model_weights_path = train(model, train_set, val_set, batch_size, output_dir, epochs, lr)\n",
    "print('naučene težine modela u spremljene u:', model_weights_path)"
   ]
  },
  {
   "cell_type": "code",
   "execution_count": 16,
   "id": "fd8d46a9-9a20-4702-a2ad-6438ce08710f",
   "metadata": {},
   "outputs": [
    {
     "name": "stdout",
     "output_type": "stream",
     "text": [
      "Final evaluation on test set\n",
      "test loss 0.189, test accuracy 0.923, test rmse 0.805, test microF1 0.838, test macroF1 0.923, test weightedF1 0.923\n",
      "tensor([[0.9250, 0.0083, 0.0000, 0.0208, 0.0458],\n",
      "        [0.0288, 0.9424, 0.0206, 0.0082, 0.0000],\n",
      "        [0.2000, 0.3000, 0.5000, 0.0000, 0.0000],\n",
      "        [0.0317, 0.0159, 0.0000, 0.9365, 0.0159],\n",
      "        [0.0833, 0.0000, 0.0000, 0.0083, 0.9083]])\n"
     ]
    },
    {
     "name": "stderr",
     "output_type": "stream",
     "text": [
      "/home/rcoric/klasifikacija/CNNClassification_inftoprez/evaluateModel.py:54: UserWarning: FixedFormatter should only be used together with FixedLocator\n",
      "  ax.set_xticklabels([''] + nazivi, rotation=90)\n",
      "/home/rcoric/klasifikacija/CNNClassification_inftoprez/evaluateModel.py:55: UserWarning: FixedFormatter should only be used together with FixedLocator\n",
      "  ax.set_yticklabels([''] + nazivi)\n"
     ]
    },
    {
     "data": {
      "image/png": "[encoded data removed]",
      "text/plain": [
       "<Figure size 432x288 with 2 Axes>"
      ]
     },
     "metadata": {
      "needs_background": "light"
     },
     "output_type": "display_data"
    }
   ],
   "source": [
    "# evaluacija prethodno spremljenog modela\n",
    "model_weights_path='results/20211117_193445/model.weights'\n",
    "evaluateOnTestSet(model, model_weights_path, test_set,sve_kategorije)"
   ]
  },
  {
   "cell_type": "code",
   "execution_count": 17,
   "id": "da0ef2cc-c3b8-437b-8370-6e6bc6157742",
   "metadata": {},
   "outputs": [
    {
     "name": "stdout",
     "output_type": "stream",
     "text": [
      "prezent završava na: am\n"
     ]
    },
    {
     "name": "stderr",
     "output_type": "stream",
     "text": [
      "/home/rcoric/klasifikacija/CNNClassification_inftoprez/evaluateModel.py:97: UserWarning: FixedFormatter should only be used together with FixedLocator\n",
      "  ax.set_xticklabels([''] + nazivi)\n"
     ]
    },
    {
     "data": {
      "image/png": "[encoded data removed]",
      "text/plain": [
       "<Figure size 432x288 with 1 Axes>"
      ]
     },
     "metadata": {
      "needs_background": "light"
     },
     "output_type": "display_data"
    },
    {
     "name": "stdout",
     "output_type": "stream",
     "text": [
      "prezent završava na: am\n"
     ]
    },
    {
     "data": {
      "image/png": "[encoded data removed]",
      "text/plain": [
       "<Figure size 432x288 with 1 Axes>"
      ]
     },
     "metadata": {
      "needs_background": "light"
     },
     "output_type": "display_data"
    },
    {
     "name": "stdout",
     "output_type": "stream",
     "text": [
      "prezent završava na: am\n"
     ]
    },
    {
     "data": {
      "image/png": "[encoded data removed]",
      "text/plain": [
       "<Figure size 432x288 with 1 Axes>"
      ]
     },
     "metadata": {
      "needs_background": "light"
     },
     "output_type": "display_data"
    },
    {
     "name": "stdout",
     "output_type": "stream",
     "text": [
      "prezent završava na: im\n"
     ]
    },
    {
     "data": {
      "image/png": "[encoded data removed]",
      "text/plain": [
       "<Figure size 432x288 with 1 Axes>"
      ]
     },
     "metadata": {
      "needs_background": "light"
     },
     "output_type": "display_data"
    },
    {
     "name": "stdout",
     "output_type": "stream",
     "text": [
      "prezent završava na: im\n"
     ]
    },
    {
     "data": {
      "image/png": "[encoded data removed]",
      "text/plain": [
       "<Figure size 432x288 with 1 Axes>"
      ]
     },
     "metadata": {
      "needs_background": "light"
     },
     "output_type": "display_data"
    },
    {
     "name": "stdout",
     "output_type": "stream",
     "text": [
      "prezent završava na: im\n"
     ]
    },
    {
     "data": {
      "image/png": "[encoded data removed]",
      "text/plain": [
       "<Figure size 432x288 with 1 Axes>"
      ]
     },
     "metadata": {
      "needs_background": "light"
     },
     "output_type": "display_data"
    }
   ],
   "source": [
    "# heatmaps i predikcije za željene glagole\n",
    "glagoli = ['iscrtati','raskrinkati','slušati','primjeriti','bubriti','iskoračiti']\n",
    "for gl in glagoli:\n",
    "    #napravi heatmap\n",
    "    heatmap(gl,model)"
   ]
  },
  {
   "cell_type": "code",
   "execution_count": null,
   "id": "a28fad30-0c9e-4243-a70a-9a6b1fcf456a",
   "metadata": {},
   "outputs": [],
   "source": []
  }
 ],
 "metadata": {
  "kernelspec": {
   "display_name": "Python 3 (ipykernel)",
   "language": "python",
   "name": "python3"
  },
  "language_info": {
   "codemirror_mode": {
    "name": "ipython",
    "version": 3
   },
   "file_extension": ".py",
   "mimetype": "text/x-python",
   "name": "python",
   "nbconvert_exporter": "python",
   "pygments_lexer": "ipython3",
   "version": "3.8.5"
  }
 },
 "nbformat": 4,
 "nbformat_minor": 5
}
