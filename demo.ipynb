{
 "cells": [
  {
   "cell_type": "markdown",
   "id": "e5ac6680-0a91-4709-901b-fc20bdd5adf0",
   "metadata": {},
   "source": [
    "# Croatian Verb classsification"
   ]
  },
  {
   "cell_type": "markdown",
   "id": "3f413458-dbe3-4f0c-adb6-a005b7f75790",
   "metadata": {},
   "source": [
    "authors: Rebeka Čorić, Mario Essert, Domagoj Ševerdija"
   ]
  },
  {
   "cell_type": "markdown",
   "id": "2f319c60-970f-46ee-b01c-21cdf50d8aef",
   "metadata": {},
   "source": [
    "## Problem definition"
   ]
  },
  {
   "cell_type": "markdown",
   "id": "183380de-b282-4fd4-9f39-6505035017e7",
   "metadata": {},
   "source": [
    "In this paper we present croatian verb classification from infinitive form to present form and vice-versa. In both cases convolutional Neural Network is employed to learn classifer."
   ]
  },
  {
   "cell_type": "markdown",
   "id": "6ee2c77d-2b1c-408d-b7d4-38b5df5b1dd1",
   "metadata": {},
   "source": [
    "## Approach: From inifinitive form to present form"
   ]
  },
  {
   "cell_type": "code",
   "execution_count": 2,
   "id": "da7afc29-5cdd-4282-9bbe-40dbe9e1427b",
   "metadata": {},
   "outputs": [],
   "source": [
    "from inf2pres.evaluate import evaluateOnTestSet, loadModel, heatmap\n",
    "from inf2pres.utils         import ucitajPodatke"
   ]
  },
  {
   "cell_type": "code",
   "execution_count": 3,
   "id": "1be2cead-45f9-45c9-afb3-dd8517b7104b",
   "metadata": {},
   "outputs": [],
   "source": [
    "train_set, val_set, test_set, sve_kategorije = ucitajPodatke('inf2pres/dataset/')"
   ]
  },
  {
   "cell_type": "code",
   "execution_count": 4,
   "id": "d1246392-a3b0-4793-8e4c-2d875e3dd49d",
   "metadata": {},
   "outputs": [
    {
     "name": "stdout",
     "output_type": "stream",
     "text": [
      "Final evaluation on test set\n",
      "test loss 0.189, test accuracy 0.923, test rmse 0.805, test microF1 0.838, test macroF1 0.923, test weightedF1 0.923\n",
      "tensor([[0.9250, 0.0083, 0.0000, 0.0208, 0.0458],\n",
      "        [0.0288, 0.9424, 0.0206, 0.0082, 0.0000],\n",
      "        [0.2000, 0.3000, 0.5000, 0.0000, 0.0000],\n",
      "        [0.0317, 0.0159, 0.0000, 0.9365, 0.0159],\n",
      "        [0.0833, 0.0000, 0.0000, 0.0083, 0.9083]])\n"
     ]
    },
    {
     "name": "stderr",
     "output_type": "stream",
     "text": [
      "/home/dseverdi/Radno/morphology/HR_glagoli/inf2pres/evaluate.py:59: UserWarning: FixedFormatter should only be used together with FixedLocator\n",
      "  ax.set_xticklabels([''] + nazivi, rotation=90)\n",
      "/home/dseverdi/Radno/morphology/HR_glagoli/inf2pres/evaluate.py:60: UserWarning: FixedFormatter should only be used together with FixedLocator\n",
      "  ax.set_yticklabels([''] + nazivi)\n"
     ]
    },
    {
     "data": {
      "image/png": "[encoded data removed]",
      "text/plain": [
       "<Figure size 432x288 with 2 Axes>"
      ]
     },
     "metadata": {
      "needs_background": "light"
     },
     "output_type": "display_data"
    }
   ],
   "source": [
    "# evaluacija prethodno spremljenog modela\n",
    "model_weights_path = 'inf2pres/results/20211117_193445/model.weights'\n",
    "model = loadModel(model_weights_path)\n",
    "evaluateOnTestSet(model, test_set,sve_kategorije)"
   ]
  },
  {
   "cell_type": "code",
   "execution_count": 5,
   "id": "23fb1656-f965-420a-bc94-301952a2f381",
   "metadata": {},
   "outputs": [
    {
     "name": "stdout",
     "output_type": "stream",
     "text": [
      "prezent završava na: am\n"
     ]
    },
    {
     "name": "stderr",
     "output_type": "stream",
     "text": [
      "/home/dseverdi/Radno/morphology/HR_glagoli/inf2pres/evaluate.py:102: UserWarning: FixedFormatter should only be used together with FixedLocator\n",
      "  ax.set_xticklabels([''] + nazivi)\n"
     ]
    },
    {
     "data": {
      "image/png": "[encoded data removed]",
      "text/plain": [
       "<Figure size 432x288 with 1 Axes>"
      ]
     },
     "metadata": {
      "needs_background": "light"
     },
     "output_type": "display_data"
    },
    {
     "name": "stdout",
     "output_type": "stream",
     "text": [
      "prezent završava na: am\n"
     ]
    },
    {
     "data": {
      "image/png": "[encoded data removed]",
      "text/plain": [
       "<Figure size 432x288 with 1 Axes>"
      ]
     },
     "metadata": {
      "needs_background": "light"
     },
     "output_type": "display_data"
    },
    {
     "name": "stdout",
     "output_type": "stream",
     "text": [
      "prezent završava na: am\n"
     ]
    },
    {
     "data": {
      "image/png": "[encoded data removed]",
      "text/plain": [
       "<Figure size 432x288 with 1 Axes>"
      ]
     },
     "metadata": {
      "needs_background": "light"
     },
     "output_type": "display_data"
    },
    {
     "name": "stdout",
     "output_type": "stream",
     "text": [
      "prezent završava na: im\n"
     ]
    },
    {
     "data": {
      "image/png": "[encoded data removed]",
      "text/plain": [
       "<Figure size 432x288 with 1 Axes>"
      ]
     },
     "metadata": {
      "needs_background": "light"
     },
     "output_type": "display_data"
    },
    {
     "name": "stdout",
     "output_type": "stream",
     "text": [
      "prezent završava na: im\n"
     ]
    },
    {
     "data": {
      "image/png": "[encoded data removed]",
      "text/plain": [
       "<Figure size 432x288 with 1 Axes>"
      ]
     },
     "metadata": {
      "needs_background": "light"
     },
     "output_type": "display_data"
    },
    {
     "name": "stdout",
     "output_type": "stream",
     "text": [
      "prezent završava na: im\n"
     ]
    },
    {
     "data": {
      "image/png": "[encoded data removed]",
      "text/plain": [
       "<Figure size 432x288 with 1 Axes>"
      ]
     },
     "metadata": {
      "needs_background": "light"
     },
     "output_type": "display_data"
    }
   ],
   "source": [
    "glagoli = ['iscrtati','raskrinkati','slušati','primjeriti','bubriti','iskoračiti']\n",
    "\n",
    "\n",
    "#napravi heatmap\n",
    "_ = [heatmap(model,gl) for gl in glagoli ]"
   ]
  },
  {
   "cell_type": "markdown",
   "id": "f6bf10b4-b8c5-47cd-96a4-8ad4d56cd949",
   "metadata": {},
   "source": [
    "### Primjeri s prezentskom osnovom 'im'"
   ]
  },
  {
   "cell_type": "code",
   "execution_count": 6,
   "id": "61b9fa93-ab8c-4dc2-9f73-9a7e61d84b95",
   "metadata": {},
   "outputs": [
    {
     "name": "stdout",
     "output_type": "stream",
     "text": [
      "prezent završava na: em\n"
     ]
    },
    {
     "data": {
      "image/png": "[encoded data removed]",
      "text/plain": [
       "<Figure size 432x288 with 1 Axes>"
      ]
     },
     "metadata": {
      "needs_background": "light"
     },
     "output_type": "display_data"
    },
    {
     "name": "stdout",
     "output_type": "stream",
     "text": [
      "prezent završava na: em\n"
     ]
    },
    {
     "data": {
      "image/png": "[encoded data removed]",
      "text/plain": [
       "<Figure size 432x288 with 1 Axes>"
      ]
     },
     "metadata": {
      "needs_background": "light"
     },
     "output_type": "display_data"
    },
    {
     "name": "stdout",
     "output_type": "stream",
     "text": [
      "prezent završava na: em\n"
     ]
    },
    {
     "data": {
      "image/png": "[encoded data removed]",
      "text/plain": [
       "<Figure size 432x288 with 1 Axes>"
      ]
     },
     "metadata": {
      "needs_background": "light"
     },
     "output_type": "display_data"
    },
    {
     "name": "stdout",
     "output_type": "stream",
     "text": [
      "prezent završava na: em\n"
     ]
    },
    {
     "data": {
      "image/png": "[encoded data removed]",
      "text/plain": [
       "<Figure size 432x288 with 1 Axes>"
      ]
     },
     "metadata": {
      "needs_background": "light"
     },
     "output_type": "display_data"
    },
    {
     "name": "stdout",
     "output_type": "stream",
     "text": [
      "prezent završava na: em\n"
     ]
    },
    {
     "data": {
      "image/png": "[encoded data removed]",
      "text/plain": [
       "<Figure size 432x288 with 1 Axes>"
      ]
     },
     "metadata": {
      "needs_background": "light"
     },
     "output_type": "display_data"
    },
    {
     "name": "stdout",
     "output_type": "stream",
     "text": [
      "prezent završava na: am\n"
     ]
    },
    {
     "data": {
      "image/png": "[encoded data removed]",
      "text/plain": [
       "<Figure size 432x288 with 1 Axes>"
      ]
     },
     "metadata": {
      "needs_background": "light"
     },
     "output_type": "display_data"
    },
    {
     "name": "stdout",
     "output_type": "stream",
     "text": [
      "prezent završava na: em\n"
     ]
    },
    {
     "data": {
      "image/png": "[encoded data removed]",
      "text/plain": [
       "<Figure size 432x288 with 1 Axes>"
      ]
     },
     "metadata": {
      "needs_background": "light"
     },
     "output_type": "display_data"
    },
    {
     "name": "stdout",
     "output_type": "stream",
     "text": [
      "prezent završava na: em\n"
     ]
    },
    {
     "data": {
      "image/png": "[encoded data removed]",
      "text/plain": [
       "<Figure size 432x288 with 1 Axes>"
      ]
     },
     "metadata": {
      "needs_background": "light"
     },
     "output_type": "display_data"
    },
    {
     "name": "stdout",
     "output_type": "stream",
     "text": [
      "prezent završava na: em\n"
     ]
    },
    {
     "data": {
      "image/png": "[encoded data removed]",
      "text/plain": [
       "<Figure size 432x288 with 1 Axes>"
      ]
     },
     "metadata": {
      "needs_background": "light"
     },
     "output_type": "display_data"
    },
    {
     "name": "stdout",
     "output_type": "stream",
     "text": [
      "prezent završava na: em\n"
     ]
    },
    {
     "data": {
      "image/png": "[encoded data removed]",
      "text/plain": [
       "<Figure size 432x288 with 1 Axes>"
      ]
     },
     "metadata": {
      "needs_background": "light"
     },
     "output_type": "display_data"
    }
   ],
   "source": [
    "glagoli = ['nadići', 'isklesati','zabosti','zderati','poodmaći','dopirati','okretati','susresti','obrecnuti','umirati']\n",
    "\n",
    "\n",
    "#napravi heatmap\n",
    "_ = [heatmap(model,gl) for gl in glagoli ]"
   ]
  },
  {
   "cell_type": "code",
   "execution_count": null,
   "id": "68017edf-eb6e-491b-a519-04cc3aef41c2",
   "metadata": {},
   "outputs": [],
   "source": []
  }
 ],
 "metadata": {
  "kernelspec": {
   "display_name": "Python 3.8.5 64-bit ('base': conda)",
   "language": "python",
   "name": "python385jvsc74a57bd040d3a090f54c6569ab1632332b64b2c03c39dcf918b08424e98f38b5ae0af88f"
  },
  "language_info": {
   "codemirror_mode": {
    "name": "ipython",
    "version": 3
   },
   "file_extension": ".py",
   "mimetype": "text/x-python",
   "name": "python",
   "nbconvert_exporter": "python",
   "pygments_lexer": "ipython3",
   "version": "3.8.5"
  }
 },
 "nbformat": 4,
 "nbformat_minor": 5
}
