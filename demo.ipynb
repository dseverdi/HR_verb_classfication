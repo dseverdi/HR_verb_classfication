{
 "cells": [
  {
   "cell_type": "markdown",
   "id": "e5ac6680-0a91-4709-901b-fc20bdd5adf0",
   "metadata": {},
   "source": [
    "# Croatian Verb classsification"
   ]
  },
  {
   "cell_type": "markdown",
   "id": "3f413458-dbe3-4f0c-adb6-a005b7f75790",
   "metadata": {},
   "source": [
    "authors: Rebeka Čorić, Mario Essert, Domagoj Ševerdija"
   ]
  },
  {
   "cell_type": "markdown",
   "id": "2f319c60-970f-46ee-b01c-21cdf50d8aef",
   "metadata": {},
   "source": [
    "## Problem definition"
   ]
  },
  {
   "cell_type": "markdown",
   "id": "183380de-b282-4fd4-9f39-6505035017e7",
   "metadata": {},
   "source": [
    "In this paper we present croatian verb classification from infinitive form to present form and vice-versa. In both cases convolutional Neural Network is employed to learn classifer."
   ]
  },
  {
   "cell_type": "markdown",
   "id": "6ee2c77d-2b1c-408d-b7d4-38b5df5b1dd1",
   "metadata": {},
   "source": [
    "## Approach: From inifinitive form to present form"
   ]
  },
  {
   "cell_type": "code",
   "execution_count": 1,
   "id": "da7afc29-5cdd-4282-9bbe-40dbe9e1427b",
   "metadata": {},
   "outputs": [],
   "source": [
    "from inf2pres.evaluate import evaluateOnTestSet, loadModel, heatmap\n",
    "from inf2pres.utils         import ucitajPodatke, klase_prezent"
   ]
  },
  {
   "cell_type": "markdown",
   "id": "29cc74ba-9a24-4286-b3e4-5e82f6236582",
   "metadata": {},
   "source": [
    "## Dataset"
   ]
  },
  {
   "cell_type": "markdown",
   "id": "a82be64c-bad5-49dc-8c75-7be4f840c220",
   "metadata": {},
   "source": [
    "Dataset consists of pairs $(w_{inf},w_{pres})$ where $w_{inf}$ denotes infinitive form of word $w$ and $w_{pres}$ as the first person present form. \n"
   ]
  },
  {
   "cell_type": "code",
   "execution_count": 2,
   "id": "1be2cead-45f9-45c9-afb3-dd8517b7104b",
   "metadata": {},
   "outputs": [],
   "source": [
    "train_set, val_set, test_set, sve_kategorije = ucitajPodatke('inf2pres/dataset/')"
   ]
  },
  {
   "cell_type": "code",
   "execution_count": 3,
   "id": "2decec35-1aa7-4c6c-b8d4-ee8681ef940c",
   "metadata": {},
   "outputs": [],
   "source": [
    "import pandas as pd\n",
    "train_df = pd.DataFrame(train_set,columns=['word','class'])\n",
    "val_df   = pd.DataFrame(val_set,columns=['word','class'])\n",
    "test_df  = pd.DataFrame(test_set,columns=['word','class'])\n"
   ]
  },
  {
   "cell_type": "code",
   "execution_count": 4,
   "id": "d65647ef-af07-419d-9840-b2fd0c743024",
   "metadata": {},
   "outputs": [
    {
     "data": {
      "text/html": [
       "<style type=\"text/css\">\n",
       "#T_5edda_row0_col0, #T_5edda_row0_col1, #T_5edda_row0_col2 {\n",
       "  background-color: #08306b;\n",
       "  color: #f1f1f1;\n",
       "}\n",
       "#T_5edda_row1_col0 {\n",
       "  background-color: #083979;\n",
       "  color: #f1f1f1;\n",
       "}\n",
       "#T_5edda_row1_col1, #T_5edda_row1_col2 {\n",
       "  background-color: #083877;\n",
       "  color: #f1f1f1;\n",
       "}\n",
       "#T_5edda_row2_col0, #T_5edda_row2_col1, #T_5edda_row2_col2 {\n",
       "  background-color: #75b4d8;\n",
       "  color: #000000;\n",
       "}\n",
       "#T_5edda_row3_col0 {\n",
       "  background-color: #c8dcf0;\n",
       "  color: #000000;\n",
       "}\n",
       "#T_5edda_row3_col1, #T_5edda_row3_col2 {\n",
       "  background-color: #c7dcef;\n",
       "  color: #000000;\n",
       "}\n",
       "#T_5edda_row4_col0, #T_5edda_row4_col1, #T_5edda_row4_col2 {\n",
       "  background-color: #f7fbff;\n",
       "  color: #000000;\n",
       "}\n",
       "</style>\n",
       "<table id=\"T_5edda_\">\n",
       "  <thead>\n",
       "    <tr>\n",
       "      <th class=\"blank level0\" >&nbsp;</th>\n",
       "      <th class=\"col_heading level0 col0\" >train</th>\n",
       "      <th class=\"col_heading level0 col1\" >val</th>\n",
       "      <th class=\"col_heading level0 col2\" >test</th>\n",
       "    </tr>\n",
       "    <tr>\n",
       "      <th class=\"index_name level0\" >classes</th>\n",
       "      <th class=\"blank col0\" >&nbsp;</th>\n",
       "      <th class=\"blank col1\" >&nbsp;</th>\n",
       "      <th class=\"blank col2\" >&nbsp;</th>\n",
       "    </tr>\n",
       "  </thead>\n",
       "  <tbody>\n",
       "    <tr>\n",
       "      <th id=\"T_5edda_level0_row0\" class=\"row_heading level0 row0\" >am</th>\n",
       "      <td id=\"T_5edda_row0_col0\" class=\"data row0 col0\" >1968</td>\n",
       "      <td id=\"T_5edda_row0_col1\" class=\"data row0 col1\" >219</td>\n",
       "      <td id=\"T_5edda_row0_col2\" class=\"data row0 col2\" >243</td>\n",
       "    </tr>\n",
       "    <tr>\n",
       "      <th id=\"T_5edda_level0_row1\" class=\"row_heading level0 row1\" >im</th>\n",
       "      <td id=\"T_5edda_row1_col0\" class=\"data row1 col0\" >1900</td>\n",
       "      <td id=\"T_5edda_row1_col1\" class=\"data row1 col1\" >212</td>\n",
       "      <td id=\"T_5edda_row1_col2\" class=\"data row1 col2\" >235</td>\n",
       "    </tr>\n",
       "    <tr>\n",
       "      <th id=\"T_5edda_level0_row2\" class=\"row_heading level0 row2\" >ijem</th>\n",
       "      <td id=\"T_5edda_row2_col0\" class=\"data row2 col0\" >975</td>\n",
       "      <td id=\"T_5edda_row2_col1\" class=\"data row2 col1\" >109</td>\n",
       "      <td id=\"T_5edda_row2_col2\" class=\"data row2 col2\" >121</td>\n",
       "    </tr>\n",
       "    <tr>\n",
       "      <th id=\"T_5edda_level0_row3\" class=\"row_heading level0 row3\" >jem</th>\n",
       "      <td id=\"T_5edda_row3_col0\" class=\"data row3 col0\" >537</td>\n",
       "      <td id=\"T_5edda_row3_col1\" class=\"data row3 col1\" >60</td>\n",
       "      <td id=\"T_5edda_row3_col2\" class=\"data row3 col2\" >67</td>\n",
       "    </tr>\n",
       "    <tr>\n",
       "      <th id=\"T_5edda_level0_row4\" class=\"row_heading level0 row4\" >em</th>\n",
       "      <td id=\"T_5edda_row4_col0\" class=\"data row4 col0\" >81</td>\n",
       "      <td id=\"T_5edda_row4_col1\" class=\"data row4 col1\" >9</td>\n",
       "      <td id=\"T_5edda_row4_col2\" class=\"data row4 col2\" >10</td>\n",
       "    </tr>\n",
       "  </tbody>\n",
       "</table>\n"
      ],
      "text/plain": [
       "<pandas.io.formats.style.Styler at 0x7efce6819fa0>"
      ]
     },
     "execution_count": 4,
     "metadata": {},
     "output_type": "execute_result"
    }
   ],
   "source": [
    "stats = pd.DataFrame(data = \n",
    "                     {'classes' : klase_prezent.values(), \n",
    "                      'train' : train_df['class'].value_counts(), \n",
    "                      'val' : val_df['class'].value_counts(),\n",
    "                      'test' : test_df['class'].value_counts()},                                          \n",
    "                      \n",
    "        ).set_index('classes').style.background_gradient(cmap=\"Blues\")\n",
    "        \n",
    "\n",
    "stats\n"
   ]
  },
  {
   "cell_type": "code",
   "execution_count": 5,
   "id": "d1246392-a3b0-4793-8e4c-2d875e3dd49d",
   "metadata": {},
   "outputs": [
    {
     "name": "stdout",
     "output_type": "stream",
     "text": [
      " --------------Evaluation metrics: ----------------------           \n",
      " * test loss: 1.423\n",
      " * test accuracy: 0.947,\n",
      " * test rmse: 0.683,\n",
      " * test microF1: 0.879,\n",
      " * test macroF1: 0.947,\n",
      " * test weightedF1: 0.946\n"
     ]
    },
    {
     "name": "stderr",
     "output_type": "stream",
     "text": [
      "/home/dseverdi/Radno/morphology/HR_verb_classification/inf2pres/evaluate.py:58: UserWarning: FixedFormatter should only be used together with FixedLocator\n",
      "  ax.set_xticklabels([''] + nazivi, rotation=90)\n",
      "/home/dseverdi/Radno/morphology/HR_verb_classification/inf2pres/evaluate.py:59: UserWarning: FixedFormatter should only be used together with FixedLocator\n",
      "  ax.set_yticklabels([''] + nazivi)\n"
     ]
    },
    {
     "data": {
      "image/png": "[encoded data removed]",
      "text/plain": [
       "<Figure size 432x288 with 2 Axes>"
      ]
     },
     "metadata": {
      "needs_background": "light"
     },
     "output_type": "display_data"
    }
   ],
   "source": [
    "# evaluacija prethodno spremljenog modela\n",
    "model_weights_path = 'inf2pres/results/hyperparameters/hp2/model.weights'\n",
    "model = loadModel(model_weights_path)\n",
    "evaluateOnTestSet(model, test_set,sve_kategorije)"
   ]
  },
  {
   "cell_type": "code",
   "execution_count": 7,
   "id": "23fb1656-f965-420a-bc94-301952a2f381",
   "metadata": {},
   "outputs": [
    {
     "name": "stdout",
     "output_type": "stream",
     "text": [
      "prezent završava na: am\n"
     ]
    },
    {
     "data": {
      "image/png": "[encoded data removed]",
      "text/plain": [
       "<Figure size 432x288 with 1 Axes>"
      ]
     },
     "metadata": {
      "needs_background": "light"
     },
     "output_type": "display_data"
    },
    {
     "name": "stdout",
     "output_type": "stream",
     "text": [
      "prezent završava na: am\n"
     ]
    },
    {
     "data": {
      "image/png": "[encoded data removed]",
      "text/plain": [
       "<Figure size 432x288 with 1 Axes>"
      ]
     },
     "metadata": {
      "needs_background": "light"
     },
     "output_type": "display_data"
    },
    {
     "name": "stdout",
     "output_type": "stream",
     "text": [
      "prezent završava na: am\n"
     ]
    },
    {
     "data": {
      "image/png": "[encoded data removed]",
      "text/plain": [
       "<Figure size 432x288 with 1 Axes>"
      ]
     },
     "metadata": {
      "needs_background": "light"
     },
     "output_type": "display_data"
    },
    {
     "name": "stdout",
     "output_type": "stream",
     "text": [
      "prezent završava na: im\n"
     ]
    },
    {
     "data": {
      "image/png": "[encoded data removed]",
      "text/plain": [
       "<Figure size 432x288 with 1 Axes>"
      ]
     },
     "metadata": {
      "needs_background": "light"
     },
     "output_type": "display_data"
    },
    {
     "name": "stdout",
     "output_type": "stream",
     "text": [
      "prezent završava na: im\n"
     ]
    },
    {
     "data": {
      "image/png": "[encoded data removed]",
      "text/plain": [
       "<Figure size 432x288 with 1 Axes>"
      ]
     },
     "metadata": {
      "needs_background": "light"
     },
     "output_type": "display_data"
    },
    {
     "name": "stdout",
     "output_type": "stream",
     "text": [
      "prezent završava na: im\n"
     ]
    },
    {
     "data": {
      "image/png": "[encoded data removed]",
      "text/plain": [
       "<Figure size 432x288 with 1 Axes>"
      ]
     },
     "metadata": {
      "needs_background": "light"
     },
     "output_type": "display_data"
    }
   ],
   "source": [
    "glagoli = ['iscrtati','raskrinkati','slušati','primjeriti','bubriti','iskoračiti']\n",
    "\n",
    "\n",
    "#napravi heatmap\n",
    "_ = [heatmap(model,gl) for gl in glagoli ]"
   ]
  },
  {
   "cell_type": "markdown",
   "id": "f6bf10b4-b8c5-47cd-96a4-8ad4d56cd949",
   "metadata": {},
   "source": [
    "### Primjeri s prezentskom osnovom 'im'"
   ]
  },
  {
   "cell_type": "code",
   "execution_count": 6,
   "id": "61b9fa93-ab8c-4dc2-9f73-9a7e61d84b95",
   "metadata": {},
   "outputs": [
    {
     "name": "stdout",
     "output_type": "stream",
     "text": [
      "prezent završava na: em\n"
     ]
    },
    {
     "data": {
      "image/png": "[encoded data removed]",
      "text/plain": [
       "<Figure size 432x288 with 1 Axes>"
      ]
     },
     "metadata": {
      "needs_background": "light"
     },
     "output_type": "display_data"
    },
    {
     "name": "stdout",
     "output_type": "stream",
     "text": [
      "prezent završava na: em\n"
     ]
    },
    {
     "data": {
      "image/png": "[encoded data removed]",
      "text/plain": [
       "<Figure size 432x288 with 1 Axes>"
      ]
     },
     "metadata": {
      "needs_background": "light"
     },
     "output_type": "display_data"
    },
    {
     "name": "stdout",
     "output_type": "stream",
     "text": [
      "prezent završava na: em\n"
     ]
    },
    {
     "data": {
      "image/png": "[encoded data removed]",
      "text/plain": [
       "<Figure size 432x288 with 1 Axes>"
      ]
     },
     "metadata": {
      "needs_background": "light"
     },
     "output_type": "display_data"
    },
    {
     "name": "stdout",
     "output_type": "stream",
     "text": [
      "prezent završava na: em\n"
     ]
    },
    {
     "data": {
      "image/png": "[encoded data removed]",
      "text/plain": [
       "<Figure size 432x288 with 1 Axes>"
      ]
     },
     "metadata": {
      "needs_background": "light"
     },
     "output_type": "display_data"
    },
    {
     "name": "stdout",
     "output_type": "stream",
     "text": [
      "prezent završava na: em\n"
     ]
    },
    {
     "data": {
      "image/png": "[encoded data removed]",
      "text/plain": [
       "<Figure size 432x288 with 1 Axes>"
      ]
     },
     "metadata": {
      "needs_background": "light"
     },
     "output_type": "display_data"
    },
    {
     "name": "stdout",
     "output_type": "stream",
     "text": [
      "prezent završava na: em\n"
     ]
    },
    {
     "data": {
      "image/png": "[encoded data removed]",
      "text/plain": [
       "<Figure size 432x288 with 1 Axes>"
      ]
     },
     "metadata": {
      "needs_background": "light"
     },
     "output_type": "display_data"
    },
    {
     "name": "stdout",
     "output_type": "stream",
     "text": [
      "prezent završava na: em\n"
     ]
    },
    {
     "data": {
      "image/png": "[encoded data removed]",
      "text/plain": [
       "<Figure size 432x288 with 1 Axes>"
      ]
     },
     "metadata": {
      "needs_background": "light"
     },
     "output_type": "display_data"
    },
    {
     "name": "stdout",
     "output_type": "stream",
     "text": [
      "prezent završava na: em\n"
     ]
    },
    {
     "data": {
      "image/png": "[encoded data removed]",
      "text/plain": [
       "<Figure size 432x288 with 1 Axes>"
      ]
     },
     "metadata": {
      "needs_background": "light"
     },
     "output_type": "display_data"
    },
    {
     "name": "stdout",
     "output_type": "stream",
     "text": [
      "prezent završava na: em\n"
     ]
    },
    {
     "data": {
      "image/png": "[encoded data removed]",
      "text/plain": [
       "<Figure size 432x288 with 1 Axes>"
      ]
     },
     "metadata": {
      "needs_background": "light"
     },
     "output_type": "display_data"
    },
    {
     "name": "stdout",
     "output_type": "stream",
     "text": [
      "prezent završava na: am\n"
     ]
    },
    {
     "data": {
      "image/png": "[encoded data removed]",
      "text/plain": [
       "<Figure size 432x288 with 1 Axes>"
      ]
     },
     "metadata": {
      "needs_background": "light"
     },
     "output_type": "display_data"
    }
   ],
   "source": [
    "glagoli = ['nadići', 'isklesati','zabosti','zderati','poodmaći','dopirati','okretati','susresti','obrecnuti','umirati']\n",
    "\n",
    "\n",
    "#napravi heatmap\n",
    "_ = [heatmap(model,gl) for gl in glagoli ]"
   ]
  },
  {
   "cell_type": "code",
   "execution_count": null,
   "id": "68017edf-eb6e-491b-a519-04cc3aef41c2",
   "metadata": {},
   "outputs": [],
   "source": []
  }
 ],
 "metadata": {
  "kernelspec": {
   "display_name": "Python 3.8.5 64-bit ('base': conda)",
   "language": "python",
   "name": "python385jvsc74a57bd040d3a090f54c6569ab1632332b64b2c03c39dcf918b08424e98f38b5ae0af88f"
  },
  "language_info": {
   "codemirror_mode": {
    "name": "ipython",
    "version": 3
   },
   "file_extension": ".py",
   "mimetype": "text/x-python",
   "name": "python",
   "nbconvert_exporter": "python",
   "pygments_lexer": "ipython3",
   "version": "3.8.5"
  }
 },
 "nbformat": 4,
 "nbformat_minor": 5
}
