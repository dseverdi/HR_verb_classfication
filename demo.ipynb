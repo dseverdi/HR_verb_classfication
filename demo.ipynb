{
 "cells": [
  {
   "cell_type": "code",
   "execution_count": 1,
   "id": "367aa1af-a0a2-4ac3-972f-f60fcff5889a",
   "metadata": {},
   "outputs": [],
   "source": [
    "import warnings\n",
    "warnings.filterwarnings('ignore')"
   ]
  },
  {
   "cell_type": "markdown",
   "id": "e5ac6680-0a91-4709-901b-fc20bdd5adf0",
   "metadata": {},
   "source": [
    "# Croatian Verb Categorization"
   ]
  },
  {
   "cell_type": "markdown",
   "id": "3f413458-dbe3-4f0c-adb6-a005b7f75790",
   "metadata": {},
   "source": [
    "authors: Rebeka Čorić, Domagoj Ševerdija, Lucian Šošić"
   ]
  },
  {
   "cell_type": "markdown",
   "id": "ecbb4255-4487-4f98-9900-461a3e14b835",
   "metadata": {},
   "source": [
    "## Problem definition\n",
    "\n",
    "In this paper we present croatian verb classification from infinitive form to present form and vice-versa. In both cases convolutional Neural Network is employed to learn a classifer."
   ]
  },
  {
   "cell_type": "markdown",
   "id": "6ee2c77d-2b1c-408d-b7d4-38b5df5b1dd1",
   "metadata": {},
   "source": [
    "## Problem 1: Infinitive stem classification"
   ]
  },
  {
   "cell_type": "code",
   "execution_count": 2,
   "id": "da7afc29-5cdd-4282-9bbe-40dbe9e1427b",
   "metadata": {},
   "outputs": [],
   "source": [
    "from inf2pres.evaluate import evaluateOnTestSet, loadModel, heatmap, predict, probabilities\n",
    "from inf2pres.utils         import ucitajPodatke, klase_prezent"
   ]
  },
  {
   "cell_type": "markdown",
   "id": "39a956e5-d021-40fa-92d3-c07cd7ea510e",
   "metadata": {},
   "source": [
    "### Dataset\n",
    "\n",
    "Dataset consists of pairs $(w_{inf},C_{pres})$ where $w_{inf}$ denotes infinitive form of verb $w$ and $C_{pres}\\in \\{-am,-im,-jem,-em\\}$ as a class denoted with respect to 1st person present suffix.\n"
   ]
  },
  {
   "cell_type": "code",
   "execution_count": 3,
   "id": "1be2cead-45f9-45c9-afb3-dd8517b7104b",
   "metadata": {},
   "outputs": [],
   "source": [
    "train_set, val_set, test_set, sve_kategorije = ucitajPodatke('inf2pres/data/')"
   ]
  },
  {
   "cell_type": "code",
   "execution_count": 4,
   "id": "fcfd066c-f2a9-4dbe-a5ba-4c0c79afa449",
   "metadata": {
    "tags": []
   },
   "outputs": [
    {
     "name": "stdout",
     "output_type": "stream",
     "text": [
      "\\begin{tabular}{lrrrr}\n",
      "\\toprule\n",
      "{} &  train &    val &   test &   total \\\\\n",
      "classes &        &        &        &         \\\\\n",
      "\\midrule\n",
      "am      &  36.04 &  35.96 &  35.95 &   36.02 \\\\\n",
      "im      &  34.79 &  34.81 &  34.76 &   34.79 \\\\\n",
      "jem     &  11.32 &  11.33 &  11.39 &   11.33 \\\\\n",
      "em      &  17.85 &  17.90 &  17.90 &   17.86 \\\\\n",
      "total   &  80.95 &   9.03 &  10.02 &  100.00 \\\\\n",
      "\\bottomrule\n",
      "\\end{tabular}\n",
      "\n"
     ]
    },
    {
     "data": {
      "text/html": [
       "<div>\n",
       "<style scoped>\n",
       "    .dataframe tbody tr th:only-of-type {\n",
       "        vertical-align: middle;\n",
       "    }\n",
       "\n",
       "    .dataframe tbody tr th {\n",
       "        vertical-align: top;\n",
       "    }\n",
       "\n",
       "    .dataframe thead th {\n",
       "        text-align: right;\n",
       "    }\n",
       "</style>\n",
       "<table border=\"1\" class=\"dataframe\">\n",
       "  <thead>\n",
       "    <tr style=\"text-align: right;\">\n",
       "      <th></th>\n",
       "      <th>train</th>\n",
       "      <th>val</th>\n",
       "      <th>test</th>\n",
       "      <th>total</th>\n",
       "    </tr>\n",
       "    <tr>\n",
       "      <th>classes</th>\n",
       "      <th></th>\n",
       "      <th></th>\n",
       "      <th></th>\n",
       "      <th></th>\n",
       "    </tr>\n",
       "  </thead>\n",
       "  <tbody>\n",
       "    <tr>\n",
       "      <th>am</th>\n",
       "      <td>36.04</td>\n",
       "      <td>35.96</td>\n",
       "      <td>35.95</td>\n",
       "      <td>36.02</td>\n",
       "    </tr>\n",
       "    <tr>\n",
       "      <th>im</th>\n",
       "      <td>34.79</td>\n",
       "      <td>34.81</td>\n",
       "      <td>34.76</td>\n",
       "      <td>34.79</td>\n",
       "    </tr>\n",
       "    <tr>\n",
       "      <th>jem</th>\n",
       "      <td>11.32</td>\n",
       "      <td>11.33</td>\n",
       "      <td>11.39</td>\n",
       "      <td>11.33</td>\n",
       "    </tr>\n",
       "    <tr>\n",
       "      <th>em</th>\n",
       "      <td>17.85</td>\n",
       "      <td>17.90</td>\n",
       "      <td>17.90</td>\n",
       "      <td>17.86</td>\n",
       "    </tr>\n",
       "    <tr>\n",
       "      <th>total</th>\n",
       "      <td>80.95</td>\n",
       "      <td>9.03</td>\n",
       "      <td>10.02</td>\n",
       "      <td>100.00</td>\n",
       "    </tr>\n",
       "  </tbody>\n",
       "</table>\n",
       "</div>"
      ],
      "text/plain": [
       "         train    val   test   total\n",
       "classes                             \n",
       "am       36.04  35.96  35.95   36.02\n",
       "im       34.79  34.81  34.76   34.79\n",
       "jem      11.32  11.33  11.39   11.33\n",
       "em       17.85  17.90  17.90   17.86\n",
       "total    80.95   9.03  10.02  100.00"
      ]
     },
     "execution_count": 4,
     "metadata": {},
     "output_type": "execute_result"
    }
   ],
   "source": [
    "import pandas as pd\n",
    "pd.set_option(\"display.precision\", 2)\n",
    "\n",
    "\n",
    "train_df = pd.DataFrame(train_set,columns=['word','class'])\n",
    "val_df   = pd.DataFrame(val_set,columns=['word','class'])\n",
    "test_df  = pd.DataFrame(test_set,columns=['word','class'])\n",
    "\n",
    "\n",
    "stats = pd.DataFrame(data = \n",
    "                     {'classes' : klase_prezent.values(), \n",
    "                      'train' : train_df['class'].value_counts(sort=False), \n",
    "                      'val' : val_df['class'].value_counts(sort=False),\n",
    "                      'test' : test_df['class'].value_counts(sort=False)},                                          \n",
    "                      \n",
    "        ).set_index('classes')\n",
    "\n",
    "        \n",
    "stats.loc['total']= stats.sum(numeric_only=True, axis=0)\n",
    "stats.loc[:,'total']= stats.sum(numeric_only=True, axis=1)\n",
    "\n",
    "idx= ['train','val','test','total']\n",
    "\n",
    "df = stats.copy()\n",
    "stats[idx] = stats[idx].apply(lambda x: x / x['total'] * 100, axis=0)\n",
    "\n",
    "stats[idx]['total'] \n",
    "for c in idx : stats[c]['total'] = df[c]['total'] / df['total']['total'] * 100\n",
    "\n",
    "print(stats.to_latex(index=True))\n",
    "\n",
    "stats"
   ]
  },
  {
   "cell_type": "markdown",
   "id": "552e7310-9e09-4e8f-9444-e6210e558444",
   "metadata": {},
   "source": [
    "#### Model evaluation\n",
    "\n",
    "Our model is evaluated in terms of accuracy, micro-  and macro-averages of F1 scores together with weigthed $F_1$ score. We report a confusion matrix. "
   ]
  },
  {
   "cell_type": "code",
   "execution_count": 5,
   "id": "d1246392-a3b0-4793-8e4c-2d875e3dd49d",
   "metadata": {
    "tags": []
   },
   "outputs": [
    {
     "name": "stdout",
     "output_type": "stream",
     "text": [
      " --------------Evaluation metrics: ----------------------           \n",
      " * test loss: 0.168\n",
      " * test accuracy: 0.942,\n",
      " * test rmse: 0.530,\n",
      " * test microF1: 0.927,\n",
      " * test macroF1: 0.942,\n",
      " * test weightedF1: 0.942\n"
     ]
    },
    {
     "data": {
      "image/png": "[encoded data removed]",
      "text/plain": [
       "<Figure size 720x504 with 2 Axes>"
      ]
     },
     "metadata": {
      "needs_background": "light"
     },
     "output_type": "display_data"
    }
   ],
   "source": [
    "# evaluacija prethodno spremljenog modela\n",
    "model_weights_path = 'inf2pres/results/20211208_162956/model.weights'\n",
    "model = loadModel(model_weights_path)\n",
    "evaluateOnTestSet(model, test_set,sve_kategorije)"
   ]
  },
  {
   "cell_type": "markdown",
   "id": "342e4dde-4fd9-4485-8b64-e439484bf4d8",
   "metadata": {},
   "source": [
    "### Model testing\n",
    "\n",
    "Some interesting examples with an interpretation."
   ]
  },
  {
   "cell_type": "code",
   "execution_count": 6,
   "id": "7b1bf83d-9f9b-4ee0-9bf4-34aa9370d81d",
   "metadata": {
    "tags": []
   },
   "outputs": [
    {
     "name": "stdout",
     "output_type": "stream",
     "text": [
      "Overwriting inf2pres.input\n"
     ]
    }
   ],
   "source": [
    "%%writefile inf2pres.input\n",
    "glumovati\n",
    "čarkati\n",
    "čamiti\n",
    "čupati\n",
    "čarnuti\n",
    "ispuznuti\n",
    "zagrnuti\n",
    "zagrliti\n",
    "poodmaći\n",
    "potpasti\n",
    "preplesti\n",
    "prostrti"
   ]
  },
  {
   "cell_type": "code",
   "execution_count": 7,
   "id": "0a9a42ab-e48a-4dfa-863e-5cdf7abde979",
   "metadata": {
    "tags": []
   },
   "outputs": [
    {
     "name": "stdout",
     "output_type": "stream",
     "text": [
      "INF2PRES class: jem\n"
     ]
    },
    {
     "data": {
      "image/png": "[encoded data removed]",
      "text/plain": [
       "<Figure size 432x288 with 1 Axes>"
      ]
     },
     "metadata": {},
     "output_type": "display_data"
    },
    {
     "name": "stdout",
     "output_type": "stream",
     "text": [
      "INF2PRES class: am\n"
     ]
    },
    {
     "data": {
      "image/png": "[encoded data removed]",
      "text/plain": [
       "<Figure size 432x288 with 1 Axes>"
      ]
     },
     "metadata": {},
     "output_type": "display_data"
    },
    {
     "name": "stdout",
     "output_type": "stream",
     "text": [
      "INF2PRES class: im\n"
     ]
    },
    {
     "data": {
      "image/png": "[encoded data removed]",
      "text/plain": [
       "<Figure size 432x288 with 1 Axes>"
      ]
     },
     "metadata": {},
     "output_type": "display_data"
    },
    {
     "name": "stdout",
     "output_type": "stream",
     "text": [
      "INF2PRES class: am\n"
     ]
    },
    {
     "data": {
      "image/png": "[encoded data removed]",
      "text/plain": [
       "<Figure size 432x288 with 1 Axes>"
      ]
     },
     "metadata": {},
     "output_type": "display_data"
    },
    {
     "name": "stdout",
     "output_type": "stream",
     "text": [
      "INF2PRES class: em\n"
     ]
    },
    {
     "data": {
      "image/png": "[encoded data removed]",
      "text/plain": [
       "<Figure size 432x288 with 1 Axes>"
      ]
     },
     "metadata": {},
     "output_type": "display_data"
    },
    {
     "name": "stdout",
     "output_type": "stream",
     "text": [
      "INF2PRES class: em\n"
     ]
    },
    {
     "data": {
      "image/png": "[encoded data removed]",
      "text/plain": [
       "<Figure size 432x288 with 1 Axes>"
      ]
     },
     "metadata": {},
     "output_type": "display_data"
    },
    {
     "name": "stdout",
     "output_type": "stream",
     "text": [
      "INF2PRES class: em\n"
     ]
    },
    {
     "data": {
      "image/png": "[encoded data removed]",
      "text/plain": [
       "<Figure size 432x288 with 1 Axes>"
      ]
     },
     "metadata": {},
     "output_type": "display_data"
    },
    {
     "name": "stdout",
     "output_type": "stream",
     "text": [
      "INF2PRES class: im\n"
     ]
    },
    {
     "data": {
      "image/png": "[encoded data removed]",
      "text/plain": [
       "<Figure size 432x288 with 1 Axes>"
      ]
     },
     "metadata": {},
     "output_type": "display_data"
    },
    {
     "name": "stdout",
     "output_type": "stream",
     "text": [
      "INF2PRES class: em\n"
     ]
    },
    {
     "data": {
      "image/png": "[encoded data removed]",
      "text/plain": [
       "<Figure size 432x288 with 1 Axes>"
      ]
     },
     "metadata": {},
     "output_type": "display_data"
    },
    {
     "name": "stdout",
     "output_type": "stream",
     "text": [
      "INF2PRES class: em\n"
     ]
    },
    {
     "data": {
      "image/png": "[encoded data removed]",
      "text/plain": [
       "<Figure size 432x288 with 1 Axes>"
      ]
     },
     "metadata": {},
     "output_type": "display_data"
    },
    {
     "name": "stdout",
     "output_type": "stream",
     "text": [
      "INF2PRES class: em\n"
     ]
    },
    {
     "data": {
      "image/png": "[encoded data removed]",
      "text/plain": [
       "<Figure size 432x288 with 1 Axes>"
      ]
     },
     "metadata": {},
     "output_type": "display_data"
    },
    {
     "name": "stdout",
     "output_type": "stream",
     "text": [
      "INF2PRES class: em\n"
     ]
    },
    {
     "data": {
      "image/png": "[encoded data removed]",
      "text/plain": [
       "<Figure size 432x288 with 1 Axes>"
      ]
     },
     "metadata": {},
     "output_type": "display_data"
    }
   ],
   "source": [
    "with open('inf2pres.input') as f:\n",
    "    glagoli = f.read().splitlines()\n",
    "    \n",
    "#napravi heatmap\n",
    "_ = [heatmap(model,gl) for gl in glagoli ]"
   ]
  },
  {
   "cell_type": "code",
   "execution_count": 8,
   "id": "dbc908b9-7b4f-47e3-ba1d-80a13ff70119",
   "metadata": {},
   "outputs": [
    {
     "name": "stdout",
     "output_type": "stream",
     "text": [
      "glumovati:   \t{'jem': 0.485, 'am': 0.324, 'im': 0.191, 'em': 0.0}\n",
      "čarkati:   \t{'am': 0.581, 'im': 0.228, 'em': 0.192, 'jem': 0.0}\n",
      "čamiti:   \t{'im': 0.551, 'jem': 0.33, 'am': 0.119, 'em': 0.0}\n",
      "čupati:   \t{'am': 0.619, 'im': 0.331, 'jem': 0.05, 'em': 0.0}\n",
      "čarnuti:   \t{'em': 0.688, 'am': 0.162, 'im': 0.151, 'jem': 0.0}\n",
      "ispuznuti:   \t{'em': 0.768, 'jem': 0.126, 'am': 0.106, 'im': 0.0}\n",
      "zagrnuti:   \t{'em': 0.865, 'im': 0.132, 'am': 0.003, 'jem': 0.0}\n",
      "zagrliti:   \t{'im': 0.645, 'jem': 0.181, 'em': 0.175, 'am': 0.0}\n",
      "poodmaći:   \t{'em': 0.564, 'jem': 0.243, 'am': 0.193, 'im': 0.0}\n",
      "potpasti:   \t{'em': 0.749, 'jem': 0.172, 'im': 0.078, 'am': 0.0}\n",
      "preplesti:   \t{'em': 0.823, 'am': 0.134, 'jem': 0.043, 'im': 0.0}\n",
      "prostrti:   \t{'em': 0.674, 'im': 0.316, 'jem': 0.01, 'am': 0.0}\n"
     ]
    }
   ],
   "source": [
    "for glagol in glagoli:\n",
    "    prob = probabilities(model,glagol)\n",
    "    print(f'{glagol}:   \\t{prob}')"
   ]
  },
  {
   "cell_type": "markdown",
   "id": "0770abba-ce08-4be6-9a7f-b30b2249e327",
   "metadata": {},
   "source": [
    "### Application of classificator"
   ]
  },
  {
   "cell_type": "markdown",
   "id": "71ccc2f2-5325-48df-9877-f5c0078a7494",
   "metadata": {},
   "source": [
    "Testing `šetati`"
   ]
  },
  {
   "cell_type": "code",
   "execution_count": 11,
   "id": "c8cb6659-62ba-4b6e-ac8d-3fbfcc1e9351",
   "metadata": {},
   "outputs": [
    {
     "name": "stdout",
     "output_type": "stream",
     "text": [
      "INF2PRES class: am\n"
     ]
    },
    {
     "data": {
      "image/png": "[encoded data removed]",
      "text/plain": [
       "<Figure size 432x288 with 1 Axes>"
      ]
     },
     "metadata": {},
     "output_type": "display_data"
    },
    {
     "name": "stdout",
     "output_type": "stream",
     "text": [
      "INF2PRES class: jem\n"
     ]
    },
    {
     "data": {
      "image/png": "[encoded data removed]",
      "text/plain": [
       "<Figure size 432x288 with 1 Axes>"
      ]
     },
     "metadata": {},
     "output_type": "display_data"
    }
   ],
   "source": [
    "glagol = 'prošetati'\n",
    "heatmap(model,glagol)\n",
    "\n",
    "glagol = 'putovati'\n",
    "heatmap(model,glagol)\n",
    "\n"
   ]
  },
  {
   "cell_type": "markdown",
   "id": "00cb0f1f-9743-470f-99ce-0df5f669a600",
   "metadata": {},
   "source": [
    "## Problem 2: Present stem classification"
   ]
  },
  {
   "cell_type": "code",
   "execution_count": 6,
   "id": "6065dcb8-7210-4f75-b25d-f57239def6f7",
   "metadata": {},
   "outputs": [],
   "source": [
    "from pres2inf.evaluate import evaluateOnTestSet, loadModel, heatmap, probabilities\n",
    "from pres2inf.utils    import ucitajPodatke, klase_infinitiv"
   ]
  },
  {
   "cell_type": "markdown",
   "id": "368e9d62-66d2-49b0-adf2-852f664f3b82",
   "metadata": {},
   "source": [
    "### Dataset\n",
    "\n",
    "Dataset consists of pairs $(w_{inf},C_{pres})$ where $w_{inf}$ denotes infinitive form of verb $w$ and $C_{pres}\\in \\{-ati,-iti,-eti,-jeti,-uti,-rti,-sti,-ći\\}$ as a class denoted with respect to 1st person present suffix."
   ]
  },
  {
   "cell_type": "code",
   "execution_count": 7,
   "id": "bc6ef1aa-9313-48d2-8955-1fb0edede392",
   "metadata": {},
   "outputs": [],
   "source": [
    "# dataset\n",
    "train_set, val_set, test_set, sve_kategorije = ucitajPodatke('pres2inf/data/')"
   ]
  },
  {
   "cell_type": "code",
   "execution_count": 8,
   "id": "c74e4663-185f-4927-9859-503d01a98736",
   "metadata": {
    "tags": []
   },
   "outputs": [
    {
     "name": "stdout",
     "output_type": "stream",
     "text": [
      "\\begin{tabular}{lrrrr}\n",
      "\\toprule\n",
      "{} &  train &    val &   test &   total \\\\\n",
      "classes &        &        &        &         \\\\\n",
      "\\midrule\n",
      "ati     &  53.90 &  53.59 &  53.38 &   53.82 \\\\\n",
      "iti     &  32.16 &  31.86 &  31.91 &   32.11 \\\\\n",
      "jeti    &   3.34 &   3.43 &   3.38 &    3.35 \\\\\n",
      "eti     &   0.61 &   0.65 &   0.74 &    0.62 \\\\\n",
      "uti     &   6.10 &   6.05 &   6.18 &    6.10 \\\\\n",
      "sti     &   2.09 &   2.12 &   2.21 &    2.11 \\\\\n",
      "rti     &   0.17 &   0.33 &   0.29 &    0.19 \\\\\n",
      "ći      &   1.63 &   1.96 &   1.91 &    1.69 \\\\\n",
      "total   &  80.83 &   9.08 &  10.09 &  100.00 \\\\\n",
      "\\bottomrule\n",
      "\\end{tabular}\n",
      "\n"
     ]
    },
    {
     "data": {
      "text/html": [
       "<div>\n",
       "<style scoped>\n",
       "    .dataframe tbody tr th:only-of-type {\n",
       "        vertical-align: middle;\n",
       "    }\n",
       "\n",
       "    .dataframe tbody tr th {\n",
       "        vertical-align: top;\n",
       "    }\n",
       "\n",
       "    .dataframe thead th {\n",
       "        text-align: right;\n",
       "    }\n",
       "</style>\n",
       "<table border=\"1\" class=\"dataframe\">\n",
       "  <thead>\n",
       "    <tr style=\"text-align: right;\">\n",
       "      <th></th>\n",
       "      <th>train</th>\n",
       "      <th>val</th>\n",
       "      <th>test</th>\n",
       "      <th>total</th>\n",
       "    </tr>\n",
       "    <tr>\n",
       "      <th>classes</th>\n",
       "      <th></th>\n",
       "      <th></th>\n",
       "      <th></th>\n",
       "      <th></th>\n",
       "    </tr>\n",
       "  </thead>\n",
       "  <tbody>\n",
       "    <tr>\n",
       "      <th>ati</th>\n",
       "      <td>53.90</td>\n",
       "      <td>53.59</td>\n",
       "      <td>53.38</td>\n",
       "      <td>53.82</td>\n",
       "    </tr>\n",
       "    <tr>\n",
       "      <th>iti</th>\n",
       "      <td>32.16</td>\n",
       "      <td>31.86</td>\n",
       "      <td>31.91</td>\n",
       "      <td>32.11</td>\n",
       "    </tr>\n",
       "    <tr>\n",
       "      <th>jeti</th>\n",
       "      <td>3.34</td>\n",
       "      <td>3.43</td>\n",
       "      <td>3.38</td>\n",
       "      <td>3.35</td>\n",
       "    </tr>\n",
       "    <tr>\n",
       "      <th>eti</th>\n",
       "      <td>0.61</td>\n",
       "      <td>0.65</td>\n",
       "      <td>0.74</td>\n",
       "      <td>0.62</td>\n",
       "    </tr>\n",
       "    <tr>\n",
       "      <th>uti</th>\n",
       "      <td>6.10</td>\n",
       "      <td>6.05</td>\n",
       "      <td>6.18</td>\n",
       "      <td>6.10</td>\n",
       "    </tr>\n",
       "    <tr>\n",
       "      <th>sti</th>\n",
       "      <td>2.09</td>\n",
       "      <td>2.12</td>\n",
       "      <td>2.21</td>\n",
       "      <td>2.11</td>\n",
       "    </tr>\n",
       "    <tr>\n",
       "      <th>rti</th>\n",
       "      <td>0.17</td>\n",
       "      <td>0.33</td>\n",
       "      <td>0.29</td>\n",
       "      <td>0.19</td>\n",
       "    </tr>\n",
       "    <tr>\n",
       "      <th>ći</th>\n",
       "      <td>1.63</td>\n",
       "      <td>1.96</td>\n",
       "      <td>1.91</td>\n",
       "      <td>1.69</td>\n",
       "    </tr>\n",
       "    <tr>\n",
       "      <th>total</th>\n",
       "      <td>80.83</td>\n",
       "      <td>9.08</td>\n",
       "      <td>10.09</td>\n",
       "      <td>100.00</td>\n",
       "    </tr>\n",
       "  </tbody>\n",
       "</table>\n",
       "</div>"
      ],
      "text/plain": [
       "         train    val   test   total\n",
       "classes                             \n",
       "ati      53.90  53.59  53.38   53.82\n",
       "iti      32.16  31.86  31.91   32.11\n",
       "jeti      3.34   3.43   3.38    3.35\n",
       "eti       0.61   0.65   0.74    0.62\n",
       "uti       6.10   6.05   6.18    6.10\n",
       "sti       2.09   2.12   2.21    2.11\n",
       "rti       0.17   0.33   0.29    0.19\n",
       "ći        1.63   1.96   1.91    1.69\n",
       "total    80.83   9.08  10.09  100.00"
      ]
     },
     "execution_count": 8,
     "metadata": {},
     "output_type": "execute_result"
    }
   ],
   "source": [
    "import pandas as pd\n",
    "train_df = pd.DataFrame(train_set,columns=['word','class'])\n",
    "val_df   = pd.DataFrame(val_set,columns=['word','class'])\n",
    "test_df  = pd.DataFrame(test_set,columns=['word','class'])\n",
    "\n",
    "\n",
    "\n",
    "stats = pd.DataFrame(data = \n",
    "                     {'classes' : klase_infinitiv.values(), \n",
    "                      'train' : train_df['class'].value_counts(sort=False), \n",
    "                      'val' : val_df['class'].value_counts(sort=False),\n",
    "                      'test' : test_df['class'].value_counts(sort=False)},                                          \n",
    "                      \n",
    "        ).set_index('classes')\n",
    "\n",
    "\n",
    "        \n",
    "stats.loc['total']= stats.sum(numeric_only=True, axis=0).astype(int)\n",
    "stats.loc[:,'total']= stats.sum(numeric_only=True, axis=1).astype(int)\n",
    "\n",
    "idx= ['train','val','test','total']\n",
    "\n",
    "df = stats.copy()\n",
    "stats[idx] = stats[idx].apply(lambda x: x / x['total'] * 100, axis=0)\n",
    "\n",
    "stats[idx]['total'] \n",
    "for c in idx : stats[c]['total'] = df[c]['total'] / df['total']['total'] * 100\n",
    "\n",
    "print(stats.to_latex(index=True))\n",
    "\n",
    "stats\n",
    "\n"
   ]
  },
  {
   "cell_type": "markdown",
   "id": "f80b884b-ce22-4ea7-8133-58f466f94fac",
   "metadata": {},
   "source": [
    "### Model evaluation"
   ]
  },
  {
   "cell_type": "code",
   "execution_count": 9,
   "id": "ca82a7ce-a8a2-4c4c-901e-9f52f3132e16",
   "metadata": {
    "tags": []
   },
   "outputs": [
    {
     "name": "stdout",
     "output_type": "stream",
     "text": [
      " --------------Evaluation metrics: ----------------------           \n",
      " * test loss: 0.165\n",
      " * test accuracy: 0.956,\n",
      " * test rmse: 0.437,\n",
      " * test microF1: 0.896,\n",
      " * test macroF1: 0.956,\n",
      " * test weightedF1: 0.953\n"
     ]
    },
    {
     "data": {
      "image/png": "[encoded data removed]",
      "text/plain": [
       "<Figure size 720x504 with 2 Axes>"
      ]
     },
     "metadata": {},
     "output_type": "display_data"
    }
   ],
   "source": [
    "# evaluacija prethodno spremljenog modela\n",
    "model_weights_path = 'pres2inf/results/model.weights'\n",
    "model = loadModel(model_weights_path)\n",
    "evaluateOnTestSet(model, test_set,sve_kategorije)"
   ]
  },
  {
   "cell_type": "markdown",
   "id": "8b6cbf2b-b3c9-4045-aca5-395dba284ae7",
   "metadata": {},
   "source": [
    "### Model testing"
   ]
  },
  {
   "cell_type": "code",
   "execution_count": 10,
   "id": "951f850a-f63a-4e33-a382-b4a3e7c5fdc9",
   "metadata": {
    "tags": []
   },
   "outputs": [
    {
     "name": "stdout",
     "output_type": "stream",
     "text": [
      "Overwriting pres2inf.input\n"
     ]
    }
   ],
   "source": [
    "%%writefile pres2inf.input\n",
    "glumovati\n",
    "čarkati\n",
    "čamiti\n",
    "čupati\n",
    "čarnuti\n",
    "ispuznuti\n",
    "zagrnuti\n",
    "zagrliti\n",
    "poodmaći\n",
    "potpasti\n",
    "preplesti\n",
    "prostrti"
   ]
  },
  {
   "cell_type": "code",
   "execution_count": 11,
   "id": "59e9f332-ad16-4a79-a4d9-83a9dcfe8ab2",
   "metadata": {
    "tags": []
   },
   "outputs": [
    {
     "name": "stdout",
     "output_type": "stream",
     "text": [
      "PRES2INF class: ati\n"
     ]
    },
    {
     "data": {
      "image/png": "[encoded data removed]",
      "text/plain": [
       "<Figure size 432x288 with 1 Axes>"
      ]
     },
     "metadata": {},
     "output_type": "display_data"
    },
    {
     "name": "stdout",
     "output_type": "stream",
     "text": [
      "PRES2INF class: iti\n"
     ]
    },
    {
     "data": {
      "image/png": "[encoded data removed]",
      "text/plain": [
       "<Figure size 432x288 with 1 Axes>"
      ]
     },
     "metadata": {},
     "output_type": "display_data"
    },
    {
     "name": "stdout",
     "output_type": "stream",
     "text": [
      "PRES2INF class: ati\n"
     ]
    },
    {
     "data": {
      "image/png": "[encoded data removed]",
      "text/plain": [
       "<Figure size 432x288 with 1 Axes>"
      ]
     },
     "metadata": {},
     "output_type": "display_data"
    },
    {
     "name": "stdout",
     "output_type": "stream",
     "text": [
      "PRES2INF class: iti\n"
     ]
    },
    {
     "data": {
      "image/png": "[encoded data removed]",
      "text/plain": [
       "<Figure size 432x288 with 1 Axes>"
      ]
     },
     "metadata": {},
     "output_type": "display_data"
    },
    {
     "name": "stdout",
     "output_type": "stream",
     "text": [
      "PRES2INF class: iti\n"
     ]
    },
    {
     "data": {
      "image/png": "[encoded data removed]",
      "text/plain": [
       "<Figure size 432x288 with 1 Axes>"
      ]
     },
     "metadata": {},
     "output_type": "display_data"
    },
    {
     "name": "stdout",
     "output_type": "stream",
     "text": [
      "PRES2INF class: iti\n"
     ]
    },
    {
     "data": {
      "image/png": "[encoded data removed]",
      "text/plain": [
       "<Figure size 432x288 with 1 Axes>"
      ]
     },
     "metadata": {},
     "output_type": "display_data"
    },
    {
     "name": "stdout",
     "output_type": "stream",
     "text": [
      "PRES2INF class: iti\n"
     ]
    },
    {
     "data": {
      "image/png": "[encoded data removed]",
      "text/plain": [
       "<Figure size 432x288 with 1 Axes>"
      ]
     },
     "metadata": {},
     "output_type": "display_data"
    },
    {
     "name": "stdout",
     "output_type": "stream",
     "text": [
      "PRES2INF class: iti\n"
     ]
    },
    {
     "data": {
      "image/png": "[encoded data removed]",
      "text/plain": [
       "<Figure size 432x288 with 1 Axes>"
      ]
     },
     "metadata": {},
     "output_type": "display_data"
    },
    {
     "name": "stdout",
     "output_type": "stream",
     "text": [
      "PRES2INF class: iti\n"
     ]
    },
    {
     "data": {
      "image/png": "[encoded data removed]",
      "text/plain": [
       "<Figure size 432x288 with 1 Axes>"
      ]
     },
     "metadata": {},
     "output_type": "display_data"
    },
    {
     "name": "stdout",
     "output_type": "stream",
     "text": [
      "PRES2INF class: iti\n"
     ]
    },
    {
     "data": {
      "image/png": "[encoded data removed]",
      "text/plain": [
       "<Figure size 432x288 with 1 Axes>"
      ]
     },
     "metadata": {},
     "output_type": "display_data"
    },
    {
     "name": "stdout",
     "output_type": "stream",
     "text": [
      "PRES2INF class: jeti\n"
     ]
    },
    {
     "data": {
      "image/png": "[encoded data removed]",
      "text/plain": [
       "<Figure size 432x288 with 1 Axes>"
      ]
     },
     "metadata": {},
     "output_type": "display_data"
    },
    {
     "name": "stdout",
     "output_type": "stream",
     "text": [
      "PRES2INF class: iti\n"
     ]
    },
    {
     "data": {
      "image/png": "[encoded data removed]",
      "text/plain": [
       "<Figure size 432x288 with 1 Axes>"
      ]
     },
     "metadata": {},
     "output_type": "display_data"
    }
   ],
   "source": [
    "with open('pres2inf.input') as f:\n",
    "    glagoli = f.read().splitlines()\n",
    "    \n",
    "#napravi heatmap\n",
    "_ = [heatmap(gl,model) for gl in glagoli ]"
   ]
  },
  {
   "cell_type": "code",
   "execution_count": 12,
   "id": "c4fa08f5-2b60-4bf4-8061-230da24b0de9",
   "metadata": {},
   "outputs": [
    {
     "name": "stdout",
     "output_type": "stream",
     "text": [
      "glumim: \t{'iti': 0.277, 'jeti': 0.267, 'ati': 0.202, 'uti': 0.094, 'sti': 0.067, 'ći': 0.057, 'eti': 0.036, 'rti': 0.0}\n",
      "čarkam: \t{'iti': 0.277, 'jeti': 0.267, 'ati': 0.202, 'uti': 0.094, 'sti': 0.067, 'ći': 0.057, 'eti': 0.036, 'rti': 0.0}\n",
      "čamim: \t{'iti': 0.277, 'jeti': 0.267, 'ati': 0.202, 'uti': 0.094, 'sti': 0.067, 'ći': 0.057, 'eti': 0.036, 'rti': 0.0}\n",
      "čupam: \t{'iti': 0.277, 'jeti': 0.267, 'ati': 0.202, 'uti': 0.094, 'sti': 0.067, 'ći': 0.057, 'eti': 0.036, 'rti': 0.0}\n",
      "čarnem: \t{'iti': 0.277, 'jeti': 0.267, 'ati': 0.202, 'uti': 0.094, 'sti': 0.067, 'ći': 0.057, 'eti': 0.036, 'rti': 0.0}\n",
      "ispuznem: \t{'iti': 0.277, 'jeti': 0.267, 'ati': 0.202, 'uti': 0.094, 'sti': 0.067, 'ći': 0.057, 'eti': 0.036, 'rti': 0.0}\n",
      "zagrnem: \t{'iti': 0.277, 'jeti': 0.267, 'ati': 0.202, 'uti': 0.094, 'sti': 0.067, 'ći': 0.057, 'eti': 0.036, 'rti': 0.0}\n",
      "zagrlim: \t{'iti': 0.277, 'jeti': 0.267, 'ati': 0.202, 'uti': 0.094, 'sti': 0.067, 'ći': 0.057, 'eti': 0.036, 'rti': 0.0}\n",
      "poodmaknem: \t{'iti': 0.277, 'jeti': 0.267, 'ati': 0.202, 'uti': 0.094, 'sti': 0.067, 'ći': 0.057, 'eti': 0.036, 'rti': 0.0}\n",
      "potpadnem: \t{'iti': 0.277, 'jeti': 0.267, 'ati': 0.202, 'uti': 0.094, 'sti': 0.067, 'ći': 0.057, 'eti': 0.036, 'rti': 0.0}\n",
      "prepletem: \t{'iti': 0.277, 'jeti': 0.267, 'ati': 0.202, 'uti': 0.094, 'sti': 0.067, 'ći': 0.057, 'eti': 0.036, 'rti': 0.0}\n",
      "prostrem: \t{'iti': 0.277, 'jeti': 0.267, 'ati': 0.202, 'uti': 0.094, 'sti': 0.067, 'ći': 0.057, 'eti': 0.036, 'rti': 0.0}\n"
     ]
    }
   ],
   "source": [
    "prob = probabilities(model,glagoli[0])\n",
    "for glagol in glagoli:\n",
    "    print(f'{glagol}: \\t{prob}')"
   ]
  },
  {
   "cell_type": "code",
   "execution_count": null,
   "id": "063382a6-06b4-427a-86ba-10f44eb9bba2",
   "metadata": {},
   "outputs": [],
   "source": []
  }
 ],
 "metadata": {
  "kernelspec": {
   "display_name": "Python 3.8.5 64-bit ('base': conda)",
   "language": "python",
   "name": "python385jvsc74a57bd040d3a090f54c6569ab1632332b64b2c03c39dcf918b08424e98f38b5ae0af88f"
  },
  "language_info": {
   "codemirror_mode": {
    "name": "ipython",
    "version": 3
   },
   "file_extension": ".py",
   "mimetype": "text/x-python",
   "name": "python",
   "nbconvert_exporter": "python",
   "pygments_lexer": "ipython3",
   "version": "3.8.5"
  }
 },
 "nbformat": 4,
 "nbformat_minor": 5
}
